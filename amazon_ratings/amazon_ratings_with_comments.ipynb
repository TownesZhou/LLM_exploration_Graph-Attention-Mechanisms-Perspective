{
 "cells": [
  {
   "cell_type": "code",
   "execution_count": 1,
   "id": "86dc9406",
   "metadata": {
    "ExecuteTime": {
     "end_time": "2024-10-18T15:00:57.753322Z",
     "start_time": "2024-10-18T15:00:57.748015Z"
    }
   },
   "outputs": [],
   "source": [
    "from collections import Counter\n",
    "from string import punctuation\n",
    "from tqdm.notebook import tqdm\n",
    "import numpy as np\n",
    "import networkx as nx"
   ]
  },
  {
   "cell_type": "code",
   "execution_count": 4,
   "id": "40c8a0aa",
   "metadata": {
    "ExecuteTime": {
     "end_time": "2024-10-18T15:01:11.818832Z",
     "start_time": "2024-10-18T15:00:58.307344Z"
    }
   },
   "outputs": [
    {
     "ename": "FileNotFoundError",
     "evalue": "[Errno 2] No such file or directory: 'F:\\\\Project\\\\pythonProject\\\\amazon_ratings\\\\amazon-meta.txt'",
     "output_type": "error",
     "traceback": [
      "\u001b[0;31m---------------------------------------------------------------------------\u001b[0m",
      "\u001b[0;31mFileNotFoundError\u001b[0m                         Traceback (most recent call last)",
      "Cell \u001b[0;32mIn[4], line 1\u001b[0m\n\u001b[0;32m----> 1\u001b[0m \u001b[38;5;28;01mwith\u001b[39;00m \u001b[38;5;28;43mopen\u001b[39;49m\u001b[43m(\u001b[49m\u001b[38;5;124;43mr\u001b[39;49m\u001b[38;5;124;43m'\u001b[39;49m\u001b[38;5;124;43mF:\u001b[39;49m\u001b[38;5;124;43m\\\u001b[39;49m\u001b[38;5;124;43mProject\u001b[39;49m\u001b[38;5;124;43m\\\u001b[39;49m\u001b[38;5;124;43mpythonProject\u001b[39;49m\u001b[38;5;124;43m\\\u001b[39;49m\u001b[38;5;124;43mamazon_ratings\u001b[39;49m\u001b[38;5;124;43m\\\u001b[39;49m\u001b[38;5;124;43mamazon-meta.txt\u001b[39;49m\u001b[38;5;124;43m'\u001b[39;49m\u001b[43m)\u001b[49m \u001b[38;5;28;01mas\u001b[39;00m file:\n\u001b[1;32m      2\u001b[0m     lines \u001b[38;5;241m=\u001b[39m [line\u001b[38;5;241m.\u001b[39mstrip() \u001b[38;5;28;01mfor\u001b[39;00m line \u001b[38;5;129;01min\u001b[39;00m file]\n",
      "File \u001b[0;32m~/miniconda3/envs/edgetoken/lib/python3.8/site-packages/IPython/core/interactiveshell.py:284\u001b[0m, in \u001b[0;36m_modified_open\u001b[0;34m(file, *args, **kwargs)\u001b[0m\n\u001b[1;32m    277\u001b[0m \u001b[38;5;28;01mif\u001b[39;00m file \u001b[38;5;129;01min\u001b[39;00m {\u001b[38;5;241m0\u001b[39m, \u001b[38;5;241m1\u001b[39m, \u001b[38;5;241m2\u001b[39m}:\n\u001b[1;32m    278\u001b[0m     \u001b[38;5;28;01mraise\u001b[39;00m \u001b[38;5;167;01mValueError\u001b[39;00m(\n\u001b[1;32m    279\u001b[0m         \u001b[38;5;124mf\u001b[39m\u001b[38;5;124m\"\u001b[39m\u001b[38;5;124mIPython won\u001b[39m\u001b[38;5;124m'\u001b[39m\u001b[38;5;124mt let you open fd=\u001b[39m\u001b[38;5;132;01m{\u001b[39;00mfile\u001b[38;5;132;01m}\u001b[39;00m\u001b[38;5;124m by default \u001b[39m\u001b[38;5;124m\"\u001b[39m\n\u001b[1;32m    280\u001b[0m         \u001b[38;5;124m\"\u001b[39m\u001b[38;5;124mas it is likely to crash IPython. If you know what you are doing, \u001b[39m\u001b[38;5;124m\"\u001b[39m\n\u001b[1;32m    281\u001b[0m         \u001b[38;5;124m\"\u001b[39m\u001b[38;5;124myou can use builtins\u001b[39m\u001b[38;5;124m'\u001b[39m\u001b[38;5;124m open.\u001b[39m\u001b[38;5;124m\"\u001b[39m\n\u001b[1;32m    282\u001b[0m     )\n\u001b[0;32m--> 284\u001b[0m \u001b[38;5;28;01mreturn\u001b[39;00m \u001b[43mio_open\u001b[49m\u001b[43m(\u001b[49m\u001b[43mfile\u001b[49m\u001b[43m,\u001b[49m\u001b[43m \u001b[49m\u001b[38;5;241;43m*\u001b[39;49m\u001b[43margs\u001b[49m\u001b[43m,\u001b[49m\u001b[43m \u001b[49m\u001b[38;5;241;43m*\u001b[39;49m\u001b[38;5;241;43m*\u001b[39;49m\u001b[43mkwargs\u001b[49m\u001b[43m)\u001b[49m\n",
      "\u001b[0;31mFileNotFoundError\u001b[0m: [Errno 2] No such file or directory: 'F:\\\\Project\\\\pythonProject\\\\amazon_ratings\\\\amazon-meta.txt'"
     ]
    }
   ],
   "source": [
    "with open(r'F:\\Project\\pythonProject\\amazon_ratings\\amazon-meta.txt') as file:\n",
    "    lines = [line.strip() for line in file]"
   ]
  },
  {
   "cell_type": "code",
   "execution_count": 2,
   "id": "dc8cb487",
   "metadata": {
    "ExecuteTime": {
     "end_time": "2024-10-18T15:01:11.835613Z",
     "start_time": "2024-10-18T15:01:11.827832Z"
    },
    "tags": []
   },
   "outputs": [
    {
     "ename": "NameError",
     "evalue": "name 'lines' is not defined",
     "output_type": "error",
     "traceback": [
      "\u001b[0;31m---------------------------------------------------------------------------\u001b[0m",
      "\u001b[0;31mNameError\u001b[0m                                 Traceback (most recent call last)",
      "Cell \u001b[0;32mIn[2], line 1\u001b[0m\n\u001b[0;32m----> 1\u001b[0m \u001b[43mlines\u001b[49m[:\u001b[38;5;241m20\u001b[39m]\n",
      "\u001b[0;31mNameError\u001b[0m: name 'lines' is not defined"
     ]
    }
   ],
   "source": [
    "lines[:20]"
   ]
  },
  {
   "cell_type": "markdown",
   "id": "c1e2cc1f",
   "metadata": {},
   "source": [
    "Transform raw lines to a dictionary with graph nodes information. The dictionary keys are item ASINs, and the values contain item's title, a list of neighbors (similar item ASINs) and item's rating."
   ]
  },
  {
   "cell_type": "code",
   "execution_count": 55,
   "id": "2c3abe7e",
   "metadata": {
    "ExecuteTime": {
     "end_time": "2024-10-18T15:01:24.399988Z",
     "start_time": "2024-10-18T15:01:13.206778Z"
    }
   },
   "outputs": [
    {
     "data": {
      "text/plain": [
       "402735"
      ]
     },
     "execution_count": 55,
     "metadata": {},
     "output_type": "execute_result"
    }
   ],
   "source": [
    "nodes = {}\n",
    "i = 0\n",
    "while i < len(lines):\n",
    "    if not lines[i].startswith('ASIN:') or lines[i + 1] == 'discontinued product':\n",
    "        i += 1\n",
    "        continue\n",
    "    \n",
    "    idx = lines[i][6:]\n",
    "    \n",
    "    i += 1\n",
    "    assert lines[i].startswith('title:')\n",
    "    title = lines[i][7:]\n",
    "    \n",
    "    while not lines[i].startswith('similar:'):\n",
    "        i += 1\n",
    "    \n",
    "    neighbors = lines[i].split()[2:]\n",
    "    \n",
    "    while not lines[i].startswith('reviews:'):\n",
    "        i += 1\n",
    "    \n",
    "    num_reviews = int(lines[i].split()[2])\n",
    "    if num_reviews == 0:\n",
    "        continue\n",
    "    \n",
    "    rating = float(lines[i].split()[7])\n",
    "    \n",
    "    nodes[idx] = {\n",
    "        'title': title,\n",
    "        'neighbors': neighbors,\n",
    "        'rating': rating\n",
    "    }\n",
    "    \n",
    "    i += 1\n",
    "\n",
    "len(nodes)"
   ]
  },
  {
   "cell_type": "code",
   "execution_count": null,
   "id": "6ea4c608ce8127d6",
   "metadata": {
    "ExecuteTime": {
     "end_time": "2024-10-18T15:01:24.430050Z",
     "start_time": "2024-10-18T15:01:24.426513Z"
    }
   },
   "outputs": [],
   "source": []
  },
  {
   "cell_type": "code",
   "execution_count": 56,
   "id": "8bc09020",
   "metadata": {
    "ExecuteTime": {
     "end_time": "2024-10-18T15:01:24.844450Z",
     "start_time": "2024-10-18T15:01:24.716210Z"
    }
   },
   "outputs": [
    {
     "data": {
      "text/plain": [
       "Counter({5: 294006, 0: 78683, 1: 7936, 2: 7822, 3: 7424, 4: 6864})"
      ]
     },
     "execution_count": 56,
     "metadata": {},
     "output_type": "execute_result"
    }
   ],
   "source": [
    "Counter(len(dct['neighbors']) for dct in nodes.values())"
   ]
  },
  {
   "cell_type": "code",
   "execution_count": null,
   "id": "ddfc1adfd299f419",
   "metadata": {
    "ExecuteTime": {
     "end_time": "2024-10-18T15:01:25.121195Z",
     "start_time": "2024-10-18T15:01:25.118601Z"
    }
   },
   "outputs": [],
   "source": []
  },
  {
   "cell_type": "code",
   "execution_count": 57,
   "id": "e81a8dda",
   "metadata": {
    "ExecuteTime": {
     "end_time": "2024-10-18T15:01:25.533533Z",
     "start_time": "2024-10-18T15:01:25.393419Z"
    }
   },
   "outputs": [
    {
     "data": {
      "text/plain": [
       "Counter({5.0: 145835,\n",
       "         4.5: 103563,\n",
       "         4.0: 83458,\n",
       "         3.5: 34405,\n",
       "         3.0: 21227,\n",
       "         2.5: 6561,\n",
       "         2.0: 4117,\n",
       "         1.0: 2732,\n",
       "         1.5: 837})"
      ]
     },
     "execution_count": 57,
     "metadata": {},
     "output_type": "execute_result"
    }
   ],
   "source": [
    "Counter(dct['rating'] for dct in nodes.values())"
   ]
  },
  {
   "cell_type": "markdown",
   "id": "a32fe27b",
   "metadata": {},
   "source": [
    "Assign consecutive ids to nodes."
   ]
  },
  {
   "cell_type": "code",
   "execution_count": 58,
   "id": "4564bb44",
   "metadata": {
    "ExecuteTime": {
     "end_time": "2024-10-18T15:01:25.910357Z",
     "start_time": "2024-10-18T15:01:25.807081Z"
    }
   },
   "outputs": [],
   "source": [
    "for i, dct in enumerate(nodes.values()):\n",
    "    dct['num'] = i"
   ]
  },
  {
   "cell_type": "markdown",
   "id": "54de9963",
   "metadata": {},
   "source": [
    "Get a list of edges."
   ]
  },
  {
   "cell_type": "code",
   "execution_count": 59,
   "id": "666e639b",
   "metadata": {
    "ExecuteTime": {
     "end_time": "2024-10-18T15:01:27.838201Z",
     "start_time": "2024-10-18T15:01:26.190170Z"
    }
   },
   "outputs": [
    {
     "data": {
      "text/plain": [
       "808236"
      ]
     },
     "execution_count": 59,
     "metadata": {},
     "output_type": "execute_result"
    }
   ],
   "source": [
    "edges = set()\n",
    "for dct in nodes.values():\n",
    "    for neighbor_idx in dct['neighbors']:\n",
    "        if neighbor_idx in nodes:\n",
    "            neighbor_dct = nodes[neighbor_idx]\n",
    "            u, v = dct['num'], neighbor_dct['num']\n",
    "            if u > v:\n",
    "                u, v = v, u\n",
    "            \n",
    "            edges.add((u, v))\n",
    "\n",
    "edges = list(edges)\n",
    "len(edges)"
   ]
  },
  {
   "cell_type": "code",
   "execution_count": null,
   "id": "d6addf63f5356bc6",
   "metadata": {
    "ExecuteTime": {
     "end_time": "2024-10-18T15:01:28.105871Z",
     "start_time": "2024-10-18T15:01:28.102820Z"
    }
   },
   "outputs": [],
   "source": []
  },
  {
   "cell_type": "markdown",
   "id": "887c875d",
   "metadata": {},
   "source": [
    "Create a networkx graph."
   ]
  },
  {
   "cell_type": "code",
   "execution_count": 60,
   "id": "729e9a87",
   "metadata": {
    "ExecuteTime": {
     "end_time": "2024-10-18T15:01:32.294116Z",
     "start_time": "2024-10-18T15:01:28.380774Z"
    }
   },
   "outputs": [],
   "source": [
    "graph = nx.Graph()\n",
    "graph.add_nodes_from(range(len(nodes)))\n",
    "graph.add_edges_from(edges)"
   ]
  },
  {
   "cell_type": "markdown",
   "id": "269154d6",
   "metadata": {},
   "source": [
    "Only leave the largest connected component of the graph."
   ]
  },
  {
   "cell_type": "code",
   "execution_count": 61,
   "id": "39de1937",
   "metadata": {
    "ExecuteTime": {
     "end_time": "2024-10-18T15:01:33.517634Z",
     "start_time": "2024-10-18T15:01:32.758531Z"
    }
   },
   "outputs": [
    {
     "data": {
      "text/plain": [
       "279832"
      ]
     },
     "execution_count": 61,
     "metadata": {},
     "output_type": "execute_result"
    }
   ],
   "source": [
    "comps = nx.connected_components(graph)\n",
    "largest_comp = max(comps, key=len)\n",
    "len(largest_comp)"
   ]
  },
  {
   "cell_type": "code",
   "execution_count": 62,
   "id": "53214130",
   "metadata": {
    "ExecuteTime": {
     "end_time": "2024-10-18T15:01:34.241398Z",
     "start_time": "2024-10-18T15:01:34.085619Z"
    }
   },
   "outputs": [
    {
     "data": {
      "text/plain": [
       "279832"
      ]
     },
     "execution_count": 62,
     "metadata": {},
     "output_type": "execute_result"
    }
   ],
   "source": [
    "graph.remove_nodes_from([i for i in range(len(graph.nodes)) if i not in largest_comp])\n",
    "len(graph.nodes)"
   ]
  },
  {
   "cell_type": "markdown",
   "id": "2b57a208",
   "metadata": {},
   "source": [
    "Only leave the largest connected component of the 5-core of the graph (we need to separate the largest connected component again, since taking the 5-core results in multiple connected components)."
   ]
  },
  {
   "cell_type": "code",
   "execution_count": 63,
   "id": "2d3fdf48",
   "metadata": {
    "ExecuteTime": {
     "end_time": "2024-10-18T15:01:40.243901Z",
     "start_time": "2024-10-18T15:01:34.648655Z"
    }
   },
   "outputs": [
    {
     "data": {
      "text/plain": [
       "42400"
      ]
     },
     "execution_count": 63,
     "metadata": {},
     "output_type": "execute_result"
    }
   ],
   "source": [
    "core = nx.k_core(graph, k=5)\n",
    "len(core.nodes)"
   ]
  },
  {
   "cell_type": "code",
   "execution_count": 64,
   "id": "7fba7866",
   "metadata": {
    "ExecuteTime": {
     "end_time": "2024-10-18T15:03:02.465109Z",
     "start_time": "2024-10-18T15:03:02.387591Z"
    }
   },
   "outputs": [
    {
     "data": {
      "text/plain": [
       "24492"
      ]
     },
     "execution_count": 64,
     "metadata": {},
     "output_type": "execute_result"
    }
   ],
   "source": [
    "comps = nx.connected_components(core)\n",
    "largest_comp = max(comps, key=len)\n",
    "len(largest_comp)"
   ]
  },
  {
   "cell_type": "code",
   "execution_count": 65,
   "id": "0437d85a",
   "metadata": {
    "ExecuteTime": {
     "end_time": "2024-10-18T15:03:03.378882Z",
     "start_time": "2024-10-18T15:03:03.299258Z"
    }
   },
   "outputs": [
    {
     "data": {
      "text/plain": [
       "24492"
      ]
     },
     "execution_count": 65,
     "metadata": {},
     "output_type": "execute_result"
    }
   ],
   "source": [
    "core.remove_nodes_from([i for i in list(core.nodes) if i not in largest_comp])\n",
    "len(core.nodes)"
   ]
  },
  {
   "cell_type": "markdown",
   "id": "7848363b",
   "metadata": {},
   "source": [
    "Some more simple processing."
   ]
  },
  {
   "cell_type": "code",
   "execution_count": 66,
   "id": "03b5060c",
   "metadata": {
    "ExecuteTime": {
     "end_time": "2024-10-18T15:03:09.654754Z",
     "start_time": "2024-10-18T15:03:09.643651Z"
    }
   },
   "outputs": [],
   "source": [
    "core_nodeset = set(core.nodes)"
   ]
  },
  {
   "cell_type": "code",
   "execution_count": 67,
   "id": "649685cb",
   "metadata": {
    "ExecuteTime": {
     "end_time": "2024-10-18T15:03:11.685373Z",
     "start_time": "2024-10-18T15:03:11.588385Z"
    }
   },
   "outputs": [
    {
     "data": {
      "text/plain": [
       "24492"
      ]
     },
     "execution_count": 67,
     "metadata": {},
     "output_type": "execute_result"
    }
   ],
   "source": [
    "core_nodes = {dct['num']: dct for dct in nodes.values() if dct['num'] in core_nodeset}\n",
    "len(core_nodes)"
   ]
  },
  {
   "cell_type": "code",
   "execution_count": 68,
   "id": "fe8c3716",
   "metadata": {
    "ExecuteTime": {
     "end_time": "2024-10-18T15:03:15.115384Z",
     "start_time": "2024-10-18T15:03:15.069566Z"
    }
   },
   "outputs": [
    {
     "data": {
      "text/plain": [
       "24492"
      ]
     },
     "execution_count": 68,
     "metadata": {},
     "output_type": "execute_result"
    }
   ],
   "source": [
    "core_nodes = [core_nodes[i] for i in range(len(nodes)) if i in core_nodes]\n",
    "len(core_nodes)"
   ]
  },
  {
   "cell_type": "code",
   "execution_count": 69,
   "id": "606c3d08",
   "metadata": {
    "ExecuteTime": {
     "end_time": "2024-10-18T15:03:15.873440Z",
     "start_time": "2024-10-18T15:03:15.861361Z"
    }
   },
   "outputs": [],
   "source": [
    "titles = [node['title'] for node in core_nodes]"
   ]
  },
  {
   "cell_type": "code",
   "execution_count": 70,
   "id": "5ee69e55",
   "metadata": {
    "ExecuteTime": {
     "end_time": "2024-10-18T15:03:16.306765Z",
     "start_time": "2024-10-18T15:03:16.294564Z"
    }
   },
   "outputs": [],
   "source": [
    "ratings = [node['rating'] for node in core_nodes]"
   ]
  },
  {
   "cell_type": "code",
   "execution_count": 71,
   "id": "f9576867",
   "metadata": {
    "ExecuteTime": {
     "end_time": "2024-10-18T15:03:17.006076Z",
     "start_time": "2024-10-18T15:03:16.734210Z"
    }
   },
   "outputs": [],
   "source": [
    "core = nx.convert_node_labels_to_integers(core, ordering='sorted')"
   ]
  },
  {
   "cell_type": "code",
   "execution_count": 72,
   "id": "52231c3a",
   "metadata": {
    "ExecuteTime": {
     "end_time": "2024-10-18T15:03:17.621470Z",
     "start_time": "2024-10-18T15:03:17.392262Z"
    }
   },
   "outputs": [
    {
     "data": {
      "text/plain": [
       "(93050, 2)"
      ]
     },
     "execution_count": 72,
     "metadata": {},
     "output_type": "execute_result"
    }
   ],
   "source": [
    "edges = np.array(sorted(core.edges))\n",
    "edges.shape"
   ]
  },
  {
   "cell_type": "code",
   "execution_count": 73,
   "id": "007df831",
   "metadata": {
    "ExecuteTime": {
     "end_time": "2024-10-18T15:03:18.088668Z",
     "start_time": "2024-10-18T15:03:18.076617Z"
    }
   },
   "outputs": [
    {
     "data": {
      "text/plain": [
       "Counter({4.5: 9010,\n",
       "         5.0: 6560,\n",
       "         4.0: 5678,\n",
       "         3.5: 2183,\n",
       "         3.0: 772,\n",
       "         2.5: 173,\n",
       "         2.0: 78,\n",
       "         1.5: 21,\n",
       "         1.0: 17})"
      ]
     },
     "execution_count": 73,
     "metadata": {},
     "output_type": "execute_result"
    }
   ],
   "source": [
    "Counter(ratings)"
   ]
  },
  {
   "cell_type": "markdown",
   "id": "0736951c",
   "metadata": {},
   "source": [
    "Convert possible rating values into five classes."
   ]
  },
  {
   "cell_type": "code",
   "execution_count": 74,
   "id": "47486208",
   "metadata": {
    "ExecuteTime": {
     "end_time": "2024-10-18T15:03:25.158050Z",
     "start_time": "2024-10-18T15:03:25.142532Z"
    }
   },
   "outputs": [
    {
     "data": {
      "text/plain": [
       "(24492,)"
      ]
     },
     "execution_count": 74,
     "metadata": {},
     "output_type": "execute_result"
    }
   ],
   "source": [
    "rating_to_label = {5.0: 0, 4.5: 1, 4.0: 2, 3.5: 3, 3.0: 4, 2.5: 4, 2.0: 4, 1.5: 4, 1.0: 4}\n",
    "labels = np.array([rating_to_label[rating] for rating in ratings])\n",
    "labels.shape"
   ]
  },
  {
   "cell_type": "code",
   "execution_count": 75,
   "id": "b31f70ec",
   "metadata": {
    "ExecuteTime": {
     "end_time": "2024-10-18T15:03:26.010270Z",
     "start_time": "2024-10-18T15:03:25.999316Z"
    }
   },
   "outputs": [
    {
     "data": {
      "text/plain": [
       "Counter({1: 9010, 0: 6560, 2: 5678, 3: 2183, 4: 1061})"
      ]
     },
     "execution_count": 75,
     "metadata": {},
     "output_type": "execute_result"
    }
   ],
   "source": [
    "Counter(labels)"
   ]
  },
  {
   "cell_type": "code",
   "execution_count": 76,
   "id": "037fbdd9",
   "metadata": {
    "ExecuteTime": {
     "end_time": "2024-10-18T15:03:26.902299Z",
     "start_time": "2024-10-18T15:03:26.896166Z"
    }
   },
   "outputs": [
    {
     "data": {
      "text/plain": [
       "24492"
      ]
     },
     "execution_count": 76,
     "metadata": {},
     "output_type": "execute_result"
    }
   ],
   "source": [
    "len(titles)"
   ]
  },
  {
   "cell_type": "code",
   "execution_count": 3,
   "id": "6b18c68c",
   "metadata": {},
   "outputs": [
    {
     "ename": "FileNotFoundError",
     "evalue": "[Errno 2] No such file or directory: '../../../new_datasets/amazon_ratings_texts.txt'",
     "output_type": "error",
     "traceback": [
      "\u001b[0;31m---------------------------------------------------------------------------\u001b[0m",
      "\u001b[0;31mFileNotFoundError\u001b[0m                         Traceback (most recent call last)",
      "Cell \u001b[0;32mIn[3], line 1\u001b[0m\n\u001b[0;32m----> 1\u001b[0m \u001b[38;5;28;01mwith\u001b[39;00m \u001b[38;5;28;43mopen\u001b[39;49m\u001b[43m(\u001b[49m\u001b[38;5;124;43m'\u001b[39;49m\u001b[38;5;124;43m../../../new_datasets/amazon_ratings_texts.txt\u001b[39;49m\u001b[38;5;124;43m'\u001b[39;49m\u001b[43m,\u001b[49m\u001b[43m \u001b[49m\u001b[38;5;124;43m'\u001b[39;49m\u001b[38;5;124;43mw\u001b[39;49m\u001b[38;5;124;43m'\u001b[39;49m\u001b[43m)\u001b[49m \u001b[38;5;28;01mas\u001b[39;00m file:\n\u001b[1;32m      2\u001b[0m     \u001b[38;5;28;01mfor\u001b[39;00m title \u001b[38;5;129;01min\u001b[39;00m titles:\n\u001b[1;32m      3\u001b[0m         file\u001b[38;5;241m.\u001b[39mwrite(title \u001b[38;5;241m+\u001b[39m \u001b[38;5;124m'\u001b[39m\u001b[38;5;130;01m\\n\u001b[39;00m\u001b[38;5;124m'\u001b[39m)\n",
      "File \u001b[0;32m~/miniconda3/envs/edgetoken/lib/python3.8/site-packages/IPython/core/interactiveshell.py:284\u001b[0m, in \u001b[0;36m_modified_open\u001b[0;34m(file, *args, **kwargs)\u001b[0m\n\u001b[1;32m    277\u001b[0m \u001b[38;5;28;01mif\u001b[39;00m file \u001b[38;5;129;01min\u001b[39;00m {\u001b[38;5;241m0\u001b[39m, \u001b[38;5;241m1\u001b[39m, \u001b[38;5;241m2\u001b[39m}:\n\u001b[1;32m    278\u001b[0m     \u001b[38;5;28;01mraise\u001b[39;00m \u001b[38;5;167;01mValueError\u001b[39;00m(\n\u001b[1;32m    279\u001b[0m         \u001b[38;5;124mf\u001b[39m\u001b[38;5;124m\"\u001b[39m\u001b[38;5;124mIPython won\u001b[39m\u001b[38;5;124m'\u001b[39m\u001b[38;5;124mt let you open fd=\u001b[39m\u001b[38;5;132;01m{\u001b[39;00mfile\u001b[38;5;132;01m}\u001b[39;00m\u001b[38;5;124m by default \u001b[39m\u001b[38;5;124m\"\u001b[39m\n\u001b[1;32m    280\u001b[0m         \u001b[38;5;124m\"\u001b[39m\u001b[38;5;124mas it is likely to crash IPython. If you know what you are doing, \u001b[39m\u001b[38;5;124m\"\u001b[39m\n\u001b[1;32m    281\u001b[0m         \u001b[38;5;124m\"\u001b[39m\u001b[38;5;124myou can use builtins\u001b[39m\u001b[38;5;124m'\u001b[39m\u001b[38;5;124m open.\u001b[39m\u001b[38;5;124m\"\u001b[39m\n\u001b[1;32m    282\u001b[0m     )\n\u001b[0;32m--> 284\u001b[0m \u001b[38;5;28;01mreturn\u001b[39;00m \u001b[43mio_open\u001b[49m\u001b[43m(\u001b[49m\u001b[43mfile\u001b[49m\u001b[43m,\u001b[49m\u001b[43m \u001b[49m\u001b[38;5;241;43m*\u001b[39;49m\u001b[43margs\u001b[49m\u001b[43m,\u001b[49m\u001b[43m \u001b[49m\u001b[38;5;241;43m*\u001b[39;49m\u001b[38;5;241;43m*\u001b[39;49m\u001b[43mkwargs\u001b[49m\u001b[43m)\u001b[49m\n",
      "\u001b[0;31mFileNotFoundError\u001b[0m: [Errno 2] No such file or directory: '../../../new_datasets/amazon_ratings_texts.txt'"
     ]
    }
   ],
   "source": [
    "with open('../../../new_datasets/amazon_ratings_texts.txt', 'w') as file:\n",
    "    for title in titles:\n",
    "        file.write(title + '\\n')\n"
   ]
  },
  {
   "cell_type": "markdown",
   "id": "f3be5dc2",
   "metadata": {},
   "source": [
    "Get average embeddings of words in item titles."
   ]
  },
  {
   "cell_type": "code",
   "execution_count": 32,
   "id": "aae43762",
   "metadata": {
    "ExecuteTime": {
     "end_time": "2024-10-18T14:56:09.284421Z",
     "start_time": "2024-10-18T14:56:06.909660Z"
    },
    "collapsed": true,
    "jupyter": {
     "outputs_hidden": true
    },
    "tags": []
   },
   "outputs": [
    {
     "ename": "ImportError",
     "evalue": "cannot import name 'triu' from 'scipy.linalg' (F:\\anaconda3\\Lib\\site-packages\\scipy\\linalg\\__init__.py)",
     "output_type": "error",
     "traceback": [
      "\u001b[1;31m---------------------------------------------------------------------------\u001b[0m",
      "\u001b[1;31mImportError\u001b[0m                               Traceback (most recent call last)",
      "Cell \u001b[1;32mIn[32], line 1\u001b[0m\n\u001b[1;32m----> 1\u001b[0m \u001b[38;5;28;01mfrom\u001b[39;00m \u001b[38;5;21;01mgensim\u001b[39;00m\u001b[38;5;21;01m.\u001b[39;00m\u001b[38;5;21;01mtest\u001b[39;00m\u001b[38;5;21;01m.\u001b[39;00m\u001b[38;5;21;01mutils\u001b[39;00m \u001b[38;5;28;01mimport\u001b[39;00m datapath\n\u001b[0;32m      2\u001b[0m \u001b[38;5;28;01mfrom\u001b[39;00m \u001b[38;5;21;01mgensim\u001b[39;00m\u001b[38;5;21;01m.\u001b[39;00m\u001b[38;5;21;01mmodels\u001b[39;00m\u001b[38;5;21;01m.\u001b[39;00m\u001b[38;5;21;01mfasttext\u001b[39;00m \u001b[38;5;28;01mimport\u001b[39;00m load_facebook_vectors\n",
      "File \u001b[1;32mF:\\anaconda3\\Lib\\site-packages\\gensim\\__init__.py:11\u001b[0m\n\u001b[0;32m      7\u001b[0m __version__ \u001b[38;5;241m=\u001b[39m \u001b[38;5;124m'\u001b[39m\u001b[38;5;124m4.3.2\u001b[39m\u001b[38;5;124m'\u001b[39m\n\u001b[0;32m      9\u001b[0m \u001b[38;5;28;01mimport\u001b[39;00m \u001b[38;5;21;01mlogging\u001b[39;00m\n\u001b[1;32m---> 11\u001b[0m \u001b[38;5;28;01mfrom\u001b[39;00m \u001b[38;5;21;01mgensim\u001b[39;00m \u001b[38;5;28;01mimport\u001b[39;00m parsing, corpora, matutils, interfaces, models, similarities, utils  \u001b[38;5;66;03m# noqa:F401\u001b[39;00m\n\u001b[0;32m     14\u001b[0m logger \u001b[38;5;241m=\u001b[39m logging\u001b[38;5;241m.\u001b[39mgetLogger(\u001b[38;5;124m'\u001b[39m\u001b[38;5;124mgensim\u001b[39m\u001b[38;5;124m'\u001b[39m)\n\u001b[0;32m     15\u001b[0m \u001b[38;5;28;01mif\u001b[39;00m \u001b[38;5;129;01mnot\u001b[39;00m logger\u001b[38;5;241m.\u001b[39mhandlers:  \u001b[38;5;66;03m# To ensure reload() doesn't add another one\u001b[39;00m\n",
      "File \u001b[1;32mF:\\anaconda3\\Lib\\site-packages\\gensim\\corpora\\__init__.py:6\u001b[0m\n\u001b[0;32m      1\u001b[0m \u001b[38;5;124;03m\"\"\"\u001b[39;00m\n\u001b[0;32m      2\u001b[0m \u001b[38;5;124;03mThis package contains implementations of various streaming corpus I/O format.\u001b[39;00m\n\u001b[0;32m      3\u001b[0m \u001b[38;5;124;03m\"\"\"\u001b[39;00m\n\u001b[0;32m      5\u001b[0m \u001b[38;5;66;03m# bring corpus classes directly into package namespace, to save some typing\u001b[39;00m\n\u001b[1;32m----> 6\u001b[0m \u001b[38;5;28;01mfrom\u001b[39;00m \u001b[38;5;21;01m.\u001b[39;00m\u001b[38;5;21;01mindexedcorpus\u001b[39;00m \u001b[38;5;28;01mimport\u001b[39;00m IndexedCorpus  \u001b[38;5;66;03m# noqa:F401 must appear before the other classes\u001b[39;00m\n\u001b[0;32m      8\u001b[0m \u001b[38;5;28;01mfrom\u001b[39;00m \u001b[38;5;21;01m.\u001b[39;00m\u001b[38;5;21;01mmmcorpus\u001b[39;00m \u001b[38;5;28;01mimport\u001b[39;00m MmCorpus  \u001b[38;5;66;03m# noqa:F401\u001b[39;00m\n\u001b[0;32m      9\u001b[0m \u001b[38;5;28;01mfrom\u001b[39;00m \u001b[38;5;21;01m.\u001b[39;00m\u001b[38;5;21;01mbleicorpus\u001b[39;00m \u001b[38;5;28;01mimport\u001b[39;00m BleiCorpus  \u001b[38;5;66;03m# noqa:F401\u001b[39;00m\n",
      "File \u001b[1;32mF:\\anaconda3\\Lib\\site-packages\\gensim\\corpora\\indexedcorpus.py:14\u001b[0m\n\u001b[0;32m     10\u001b[0m \u001b[38;5;28;01mimport\u001b[39;00m \u001b[38;5;21;01mlogging\u001b[39;00m\n\u001b[0;32m     12\u001b[0m \u001b[38;5;28;01mimport\u001b[39;00m \u001b[38;5;21;01mnumpy\u001b[39;00m\n\u001b[1;32m---> 14\u001b[0m \u001b[38;5;28;01mfrom\u001b[39;00m \u001b[38;5;21;01mgensim\u001b[39;00m \u001b[38;5;28;01mimport\u001b[39;00m interfaces, utils\n\u001b[0;32m     16\u001b[0m logger \u001b[38;5;241m=\u001b[39m logging\u001b[38;5;241m.\u001b[39mgetLogger(\u001b[38;5;18m__name__\u001b[39m)\n\u001b[0;32m     19\u001b[0m \u001b[38;5;28;01mclass\u001b[39;00m \u001b[38;5;21;01mIndexedCorpus\u001b[39;00m(interfaces\u001b[38;5;241m.\u001b[39mCorpusABC):\n",
      "File \u001b[1;32mF:\\anaconda3\\Lib\\site-packages\\gensim\\interfaces.py:19\u001b[0m\n\u001b[0;32m      7\u001b[0m \u001b[38;5;124;03m\"\"\"Basic interfaces used across the whole Gensim package.\u001b[39;00m\n\u001b[0;32m      8\u001b[0m \n\u001b[0;32m      9\u001b[0m \u001b[38;5;124;03mThese interfaces are used for building corpora, model transformation and similarity queries.\u001b[39;00m\n\u001b[1;32m   (...)\u001b[0m\n\u001b[0;32m     14\u001b[0m \n\u001b[0;32m     15\u001b[0m \u001b[38;5;124;03m\"\"\"\u001b[39;00m\n\u001b[0;32m     17\u001b[0m \u001b[38;5;28;01mimport\u001b[39;00m \u001b[38;5;21;01mlogging\u001b[39;00m\n\u001b[1;32m---> 19\u001b[0m \u001b[38;5;28;01mfrom\u001b[39;00m \u001b[38;5;21;01mgensim\u001b[39;00m \u001b[38;5;28;01mimport\u001b[39;00m utils, matutils\n\u001b[0;32m     22\u001b[0m logger \u001b[38;5;241m=\u001b[39m logging\u001b[38;5;241m.\u001b[39mgetLogger(\u001b[38;5;18m__name__\u001b[39m)\n\u001b[0;32m     25\u001b[0m \u001b[38;5;28;01mclass\u001b[39;00m \u001b[38;5;21;01mCorpusABC\u001b[39;00m(utils\u001b[38;5;241m.\u001b[39mSaveLoad):\n",
      "File \u001b[1;32mF:\\anaconda3\\Lib\\site-packages\\gensim\\matutils.py:20\u001b[0m\n\u001b[0;32m     18\u001b[0m \u001b[38;5;28;01mimport\u001b[39;00m \u001b[38;5;21;01mscipy\u001b[39;00m\u001b[38;5;21;01m.\u001b[39;00m\u001b[38;5;21;01msparse\u001b[39;00m\n\u001b[0;32m     19\u001b[0m \u001b[38;5;28;01mfrom\u001b[39;00m \u001b[38;5;21;01mscipy\u001b[39;00m\u001b[38;5;21;01m.\u001b[39;00m\u001b[38;5;21;01mstats\u001b[39;00m \u001b[38;5;28;01mimport\u001b[39;00m entropy\n\u001b[1;32m---> 20\u001b[0m \u001b[38;5;28;01mfrom\u001b[39;00m \u001b[38;5;21;01mscipy\u001b[39;00m\u001b[38;5;21;01m.\u001b[39;00m\u001b[38;5;21;01mlinalg\u001b[39;00m \u001b[38;5;28;01mimport\u001b[39;00m get_blas_funcs, triu\n\u001b[0;32m     21\u001b[0m \u001b[38;5;28;01mfrom\u001b[39;00m \u001b[38;5;21;01mscipy\u001b[39;00m\u001b[38;5;21;01m.\u001b[39;00m\u001b[38;5;21;01mlinalg\u001b[39;00m\u001b[38;5;21;01m.\u001b[39;00m\u001b[38;5;21;01mlapack\u001b[39;00m \u001b[38;5;28;01mimport\u001b[39;00m get_lapack_funcs\n\u001b[0;32m     22\u001b[0m \u001b[38;5;28;01mfrom\u001b[39;00m \u001b[38;5;21;01mscipy\u001b[39;00m\u001b[38;5;21;01m.\u001b[39;00m\u001b[38;5;21;01mspecial\u001b[39;00m \u001b[38;5;28;01mimport\u001b[39;00m psi  \u001b[38;5;66;03m# gamma function utils\u001b[39;00m\n",
      "\u001b[1;31mImportError\u001b[0m: cannot import name 'triu' from 'scipy.linalg' (F:\\anaconda3\\Lib\\site-packages\\scipy\\linalg\\__init__.py)"
     ]
    }
   ],
   "source": [
    "from gensim.test.utils import datapath\n",
    "from gensim.models.fasttext import load_facebook_vectors"
   ]
  },
  {
   "cell_type": "code",
   "execution_count": 27,
   "id": "6069ced9",
   "metadata": {},
   "outputs": [],
   "source": [
    "fasttext_path = datapath('/home/olegplatonov/fastText/cc.en.300.bin')"
   ]
  },
  {
   "cell_type": "code",
   "execution_count": 28,
   "id": "ab5f324d",
   "metadata": {},
   "outputs": [],
   "source": [
    "wv = load_facebook_vectors(fasttext_path)"
   ]
  },
  {
   "cell_type": "code",
   "execution_count": 29,
   "id": "1abb0a61",
   "metadata": {},
   "outputs": [
    {
     "data": {
      "text/plain": [
       "(24492, 300)"
      ]
     },
     "execution_count": 29,
     "metadata": {},
     "output_type": "execute_result"
    }
   ],
   "source": [
    "translator = str.maketrans(punctuation, ' ' * len(punctuation))\n",
    "\n",
    "embs = []\n",
    "for title in titles:\n",
    "    title = title.lower()\n",
    "    title = title.translate(translator)\n",
    "    title = title.split()\n",
    "    \n",
    "    emb = np.zeros(300, dtype=np.float32)\n",
    "    for word in title:\n",
    "        emb += wv[word]\n",
    "    \n",
    "    emb /= len(title)\n",
    "    \n",
    "    embs.append(emb)\n",
    "\n",
    "embs = np.array(embs)\n",
    "embs.shape"
   ]
  },
  {
   "cell_type": "code",
   "execution_count": null,
   "id": "fa5cb1a8ece8d553",
   "metadata": {},
   "outputs": [],
   "source": []
  },
  {
   "cell_type": "code",
   "execution_count": 77,
   "id": "b0008322950cf16e",
   "metadata": {
    "ExecuteTime": {
     "end_time": "2024-10-18T15:03:33.227058Z",
     "start_time": "2024-10-18T15:03:33.220747Z"
    }
   },
   "outputs": [
    {
     "data": {
      "text/plain": [
       "array([1, 2, 1, ..., 4, 0, 0])"
      ]
     },
     "execution_count": 77,
     "metadata": {},
     "output_type": "execute_result"
    }
   ],
   "source": [
    "labels"
   ]
  },
  {
   "cell_type": "markdown",
   "id": "9e17c76a",
   "metadata": {},
   "source": [
    "Create 10 random stratified train-val-test splits."
   ]
  },
  {
   "cell_type": "code",
   "execution_count": 30,
   "id": "6d4ac67b",
   "metadata": {},
   "outputs": [],
   "source": [
    "from sklearn.model_selection import train_test_split"
   ]
  },
  {
   "cell_type": "code",
   "execution_count": 31,
   "id": "0f2d0ab6",
   "metadata": {},
   "outputs": [],
   "source": [
    "train_masks = []\n",
    "val_masks = []\n",
    "test_masks = []\n",
    "\n",
    "num_data_splits = 10\n",
    "for i in range(num_data_splits):\n",
    "    full_idx = np.arange(len(labels))\n",
    "    train_idx, val_and_test_idx = train_test_split(full_idx, test_size=0.5, random_state=i,\n",
    "                                                   stratify=labels)\n",
    "\n",
    "    val_idx, test_idx = train_test_split(val_and_test_idx, test_size=0.5, random_state=i,\n",
    "                                         stratify=labels[val_and_test_idx])\n",
    "    \n",
    "    train_mask = np.array([False for _ in labels])\n",
    "    train_mask[train_idx] = True\n",
    "    train_masks.append(train_mask)\n",
    "    \n",
    "    val_mask = np.array([False for _ in labels])\n",
    "    val_mask[val_idx] = True\n",
    "    val_masks.append(val_mask)\n",
    "    \n",
    "    test_mask = np.array([False for _ in labels])\n",
    "    test_mask[test_idx] = True\n",
    "    test_masks.append(test_mask)\n",
    "\n",
    "train_masks = np.vstack(train_masks)\n",
    "val_masks = np.vstack(val_masks)\n",
    "test_masks = np.vstack(test_masks)"
   ]
  },
  {
   "cell_type": "code",
   "execution_count": 32,
   "id": "2b835ebb",
   "metadata": {},
   "outputs": [],
   "source": [
    "np.savez_compressed('../../data/amazon_ratings.npz',\n",
    "                    node_features=embs,\n",
    "                    node_labels=labels,\n",
    "                    edges=edges,\n",
    "                    train_masks=train_masks,\n",
    "                    val_masks=val_masks,\n",
    "                    test_masks=test_masks)"
   ]
  },
  {
   "cell_type": "markdown",
   "id": "ce55c0de",
   "metadata": {},
   "source": [
    "Compute graph metrics: edge homophily, adjusted homophily and edge label informativeness."
   ]
  },
  {
   "cell_type": "code",
   "execution_count": 42,
   "id": "d1979f1f",
   "metadata": {
    "ExecuteTime": {
     "end_time": "2024-10-18T14:59:54.324261Z",
     "start_time": "2024-10-18T14:59:54.313728Z"
    }
   },
   "outputs": [],
   "source": [
    "def h_edge(graph, labels):\n",
    "    h_edge = 0\n",
    "    for u, v in graph.edges:\n",
    "        if labels[u] == labels[v]:\n",
    "            h_edge += 1\n",
    "\n",
    "    h_edge /= len(graph.edges)\n",
    "    \n",
    "    return h_edge\n",
    "\n",
    "\n",
    "def h_adj(graph, labels):\n",
    "    num_classes = len(np.unique(labels))\n",
    "    \n",
    "    D = np.zeros((num_classes,))\n",
    "    for u in graph.nodes:\n",
    "        label = labels[u]\n",
    "        D[label] += graph.degree(u)\n",
    "\n",
    "    adjust = (D**2 / (len(graph.edges) * 2)**2).sum()\n",
    "\n",
    "    h_adj = (h_edge(graph, labels) - adjust) / (1 - adjust)\n",
    "    \n",
    "    return h_adj\n",
    "\n",
    "\n",
    "def li_edge(graph, labels):\n",
    "    num_classes = len(np.unique(labels))\n",
    "    \n",
    "    class_probs = np.array([0 for _ in range(num_classes)], dtype=float)\n",
    "    class_degree_weighted_probs = np.array([0 for _ in range(num_classes)], dtype=float)\n",
    "    for u in graph.nodes:\n",
    "        label = labels[u]\n",
    "        class_probs[label] += 1\n",
    "        class_degree_weighted_probs[label] += graph.degree(u)\n",
    "\n",
    "    class_probs /= class_probs.sum()\n",
    "    class_degree_weighted_probs /= class_degree_weighted_probs.sum()\n",
    "\n",
    "    edge_probs = np.zeros((num_classes, num_classes))\n",
    "    for u, v in graph.edges:\n",
    "        label_u = labels[u]\n",
    "        label_v = labels[v]\n",
    "        edge_probs[label_u, label_v] += 1\n",
    "        edge_probs[label_v, label_u] += 1\n",
    "\n",
    "    edge_probs /= edge_probs.sum()\n",
    "    \n",
    "    edge_probs += 1e-8\n",
    "\n",
    "    li_edge = 2 - (edge_probs * np.log(edge_probs)).sum() / (class_degree_weighted_probs * np.log(class_degree_weighted_probs)).sum()\n",
    "\n",
    "    return li_edge\n"
   ]
  },
  {
   "cell_type": "code",
   "execution_count": 43,
   "id": "451d9e86",
   "metadata": {
    "ExecuteTime": {
     "end_time": "2024-10-18T14:59:55.015105Z",
     "start_time": "2024-10-18T14:59:55.009843Z"
    }
   },
   "outputs": [],
   "source": [
    "data = np.load(r'F:\\Project\\pythonProject\\amazon_ratings\\amazon_ratings.npz')"
   ]
  },
  {
   "cell_type": "code",
   "execution_count": 44,
   "id": "5ce8fce9",
   "metadata": {
    "ExecuteTime": {
     "end_time": "2024-10-18T14:59:56.259566Z",
     "start_time": "2024-10-18T14:59:55.760194Z"
    }
   },
   "outputs": [],
   "source": [
    "graph = nx.Graph()\n",
    "graph.add_nodes_from(range(len(data['node_features'])))\n",
    "graph.add_edges_from(data['edges'])\n",
    "\n",
    "labels = data['node_labels']"
   ]
  },
  {
   "cell_type": "code",
   "execution_count": 45,
   "id": "8d90b256",
   "metadata": {
    "ExecuteTime": {
     "end_time": "2024-10-18T14:59:56.615822Z",
     "start_time": "2024-10-18T14:59:56.538454Z"
    }
   },
   "outputs": [
    {
     "data": {
      "text/plain": [
       "0.3803761418592155"
      ]
     },
     "execution_count": 45,
     "metadata": {},
     "output_type": "execute_result"
    }
   ],
   "source": [
    "h_edge(graph, labels)"
   ]
  },
  {
   "cell_type": "code",
   "execution_count": 46,
   "id": "eeb9dff6",
   "metadata": {
    "ExecuteTime": {
     "end_time": "2024-10-18T14:59:57.250828Z",
     "start_time": "2024-10-18T14:59:57.124084Z"
    }
   },
   "outputs": [
    {
     "data": {
      "text/plain": [
       "0.14023015893977192"
      ]
     },
     "execution_count": 46,
     "metadata": {},
     "output_type": "execute_result"
    }
   ],
   "source": [
    "h_adj(graph, labels)"
   ]
  },
  {
   "cell_type": "code",
   "execution_count": 47,
   "id": "f191cec6",
   "metadata": {
    "ExecuteTime": {
     "end_time": "2024-10-18T14:59:57.812020Z",
     "start_time": "2024-10-18T14:59:57.633520Z"
    }
   },
   "outputs": [
    {
     "data": {
      "text/plain": [
       "0.039767270134040134"
      ]
     },
     "execution_count": 47,
     "metadata": {},
     "output_type": "execute_result"
    }
   ],
   "source": [
    "li_edge(graph, labels)"
   ]
  },
  {
   "cell_type": "code",
   "execution_count": 49,
   "id": "0fd3f3bb",
   "metadata": {
    "ExecuteTime": {
     "end_time": "2024-10-18T15:00:04.001133Z",
     "start_time": "2024-10-18T15:00:03.995055Z"
    }
   },
   "outputs": [
    {
     "data": {
      "text/plain": [
       "24492"
      ]
     },
     "execution_count": 49,
     "metadata": {},
     "output_type": "execute_result"
    }
   ],
   "source": [
    "len(labels)"
   ]
  },
  {
   "cell_type": "code",
   "execution_count": null,
   "id": "b2d8a1b2bb548ec6",
   "metadata": {},
   "outputs": [],
   "source": []
  },
  {
   "cell_type": "code",
   "execution_count": null,
   "id": "3e8727d7c0b26e52",
   "metadata": {},
   "outputs": [],
   "source": []
  },
  {
   "cell_type": "code",
   "execution_count": null,
   "id": "5cddb06a29f1cbbb",
   "metadata": {},
   "outputs": [],
   "source": []
  },
  {
   "cell_type": "code",
   "execution_count": null,
   "id": "e22bd04ab468e8b",
   "metadata": {},
   "outputs": [],
   "source": []
  },
  {
   "cell_type": "markdown",
   "id": "a1ff341c-9a03-43d2-b930-e72700cf1340",
   "metadata": {},
   "source": [
    "# 更换embedding"
   ]
  },
  {
   "cell_type": "code",
   "execution_count": 2,
   "id": "8d7d8f09-cd25-4abe-9877-607c8277f19d",
   "metadata": {},
   "outputs": [
    {
     "name": "stderr",
     "output_type": "stream",
     "text": [
      "/root/miniconda3/envs/edgetoken/lib/python3.8/site-packages/tqdm/auto.py:21: TqdmWarning: IProgress not found. Please update jupyter and ipywidgets. See https://ipywidgets.readthedocs.io/en/stable/user_install.html\n",
      "  from .autonotebook import tqdm as notebook_tqdm\n"
     ]
    }
   ],
   "source": [
    "import torch\n",
    "import copy\n",
    "import argparse\n",
    "import numpy as np\n",
    "import json\n",
    "import scipy\n",
    "from torch_geometric.data import Data\n",
    "from torch_sparse import SparseTensor\n",
    "from tqdm import tqdm\n",
    "import os\n",
    "import pickle\n",
    "from torch.nn import CrossEntropyLoss\n",
    "import json\n",
    "from transformers import LlamaForCausalLM, LlamaTokenizer, AdamW, get_linear_schedule_with_warmup\n",
    "from itertools import chain\n",
    "from torch_geometric.utils import to_undirected\n",
    "import torch.nn.functional as F"
   ]
  },
  {
   "cell_type": "code",
   "execution_count": 3,
   "id": "6feccba1-e454-4a20-a855-7d901292a911",
   "metadata": {
    "tags": []
   },
   "outputs": [
    {
     "name": "stderr",
     "output_type": "stream",
     "text": [
      "The `load_in_4bit` and `load_in_8bit` arguments are deprecated and will be removed in the future versions. Please, pass a `BitsAndBytesConfig` object in `quantization_config` argument instead.\n",
      "/root/miniconda3/envs/edgetoken/lib/python3.8/site-packages/bitsandbytes/cuda_setup/main.py:149: UserWarning: WARNING: The following directories listed in your path were found to be non-existent: {PosixPath('/usr/local/nvidia/lib64'), PosixPath('/usr/local/nvidia/lib')}\n",
      "  warn(msg)\n",
      "/root/miniconda3/envs/edgetoken/lib/python3.8/site-packages/bitsandbytes/cuda_setup/main.py:149: UserWarning: /usr/local/nvidia/lib:/usr/local/nvidia/lib64 did not contain ['libcudart.so', 'libcudart.so.11.0', 'libcudart.so.12.0'] as expected! Searching further paths...\n",
      "  warn(msg)\n",
      "/root/miniconda3/envs/edgetoken/lib/python3.8/site-packages/bitsandbytes/cuda_setup/main.py:149: UserWarning: WARNING: The following directories listed in your path were found to be non-existent: {PosixPath('Asia/Shanghai')}\n",
      "  warn(msg)\n",
      "/root/miniconda3/envs/edgetoken/lib/python3.8/site-packages/bitsandbytes/cuda_setup/main.py:149: UserWarning: WARNING: The following directories listed in your path were found to be non-existent: {PosixPath('//u200987-98ae-aa95c268.neimeng.seetacloud.com'), PosixPath('6443'), PosixPath('https')}\n",
      "  warn(msg)\n",
      "/root/miniconda3/envs/edgetoken/lib/python3.8/site-packages/bitsandbytes/cuda_setup/main.py:149: UserWarning: WARNING: The following directories listed in your path were found to be non-existent: {PosixPath('autodl-tmp/amazon_ratings/c42be1f3-4dd3-454b-bd93-1ed1b6d83816')}\n",
      "  warn(msg)\n",
      "/root/miniconda3/envs/edgetoken/lib/python3.8/site-packages/bitsandbytes/cuda_setup/main.py:149: UserWarning: WARNING: The following directories listed in your path were found to be non-existent: {PosixPath('module'), PosixPath('//matplotlib_inline.backend_inline')}\n",
      "  warn(msg)\n",
      "/root/miniconda3/envs/edgetoken/lib/python3.8/site-packages/bitsandbytes/cuda_setup/main.py:149: UserWarning: Found duplicate ['libcudart.so', 'libcudart.so.11.0', 'libcudart.so.12.0'] files: {PosixPath('/usr/local/cuda/lib64/libcudart.so.11.0'), PosixPath('/usr/local/cuda/lib64/libcudart.so')}.. We'll flip a coin and try one of these, in order to fail forward.\n",
      "Either way, this might cause trouble in the future:\n",
      "If you get `CUDA error: invalid device function` errors, the above might be the cause and the solution is to make sure only one ['libcudart.so', 'libcudart.so.11.0', 'libcudart.so.12.0'] in the paths that we search based on your env.\n",
      "  warn(msg)\n"
     ]
    },
    {
     "name": "stdout",
     "output_type": "stream",
     "text": [
      "\n",
      "===================================BUG REPORT===================================\n",
      "Welcome to bitsandbytes. For bug reports, please run\n",
      "\n",
      "python -m bitsandbytes\n",
      "\n",
      " and submit this information together with your error trace to: https://github.com/TimDettmers/bitsandbytes/issues\n",
      "================================================================================\n",
      "bin /root/miniconda3/envs/edgetoken/lib/python3.8/site-packages/bitsandbytes/libbitsandbytes_cuda118.so\n",
      "CUDA_SETUP: WARNING! libcudart.so not found in any environmental path. Searching in backup paths...\n",
      "CUDA SETUP: CUDA runtime path found: /usr/local/cuda/lib64/libcudart.so.11.0\n",
      "CUDA SETUP: Highest compute capability among GPUs detected: 8.6\n",
      "CUDA SETUP: Detected CUDA version 118\n",
      "CUDA SETUP: Loading binary /root/miniconda3/envs/edgetoken/lib/python3.8/site-packages/bitsandbytes/libbitsandbytes_cuda118.so...\n"
     ]
    },
    {
     "name": "stderr",
     "output_type": "stream",
     "text": [
      "Loading checkpoint shards:   0%|          | 0/2 [00:00<?, ?it/s]/root/miniconda3/envs/edgetoken/lib/python3.8/site-packages/torch/_utils.py:776: UserWarning: TypedStorage is deprecated. It will be removed in the future and UntypedStorage will be the only storage class. This should only matter to you if you are using storages directly.  To access UntypedStorage directly, use tensor.untyped_storage() instead of tensor.storage()\n",
      "  return self.fget.__get__(instance, owner)()\n",
      "Loading checkpoint shards: 100%|██████████| 2/2 [00:11<00:00,  5.82s/it]\n"
     ]
    }
   ],
   "source": [
    "\n",
    "model = LlamaForCausalLM.from_pretrained(\n",
    "                                    '../llama2-7b-hf',\n",
    "                                    load_in_8bit=True,\n",
    "                                    torch_dtype=torch.float16,\n",
    "                                    use_safetensors=False,\n",
    "                                    device_map='cuda:0'\n",
    "                                )"
   ]
  },
  {
   "cell_type": "code",
   "execution_count": 4,
   "id": "49dc1189-498d-4e0e-96f3-5a323ab120a1",
   "metadata": {},
   "outputs": [],
   "source": [
    "tokenizer = LlamaTokenizer.from_pretrained('../llama2-7b-hf', max_length=4096)\n",
    "tokenizer.padding_side = \"left\"\n",
    "tokenizer.pad_token = tokenizer.unk_token"
   ]
  },
  {
   "cell_type": "code",
   "execution_count": null,
   "id": "d9242a3e-40d3-467a-abb4-1df0664b2cff",
   "metadata": {},
   "outputs": [],
   "source": []
  },
  {
   "cell_type": "code",
   "execution_count": null,
   "id": "cbef9cd0-a9d0-4646-9f43-94a5600c6c8e",
   "metadata": {},
   "outputs": [],
   "source": []
  },
  {
   "cell_type": "code",
   "execution_count": null,
   "id": "cfb5778a-293e-4bb8-a140-f0a0887dde6a",
   "metadata": {},
   "outputs": [],
   "source": []
  },
  {
   "cell_type": "code",
   "execution_count": null,
   "id": "cd9727921a03587a",
   "metadata": {
    "ExecuteTime": {
     "end_time": "2024-10-18T15:05:08.741319Z",
     "start_time": "2024-10-18T15:05:08.723473Z"
    },
    "tags": []
   },
   "outputs": [],
   "source": []
  },
  {
   "cell_type": "code",
   "execution_count": 1,
   "id": "c5430ceb-d699-459f-9b44-283fb6fb4c24",
   "metadata": {},
   "outputs": [],
   "source": [
    "with open('amazon_ratings_texts.txt', 'r', encoding='utf-8') as file:\n",
    "    content = file.readlines()  # 读取所有行"
   ]
  },
  {
   "cell_type": "code",
   "execution_count": 2,
   "id": "367632df-a384-4e21-a480-3afca097c306",
   "metadata": {},
   "outputs": [
    {
     "ename": "NameError",
     "evalue": "name 'np' is not defined",
     "output_type": "error",
     "traceback": [
      "\u001b[0;31m---------------------------------------------------------------------------\u001b[0m",
      "\u001b[0;31mNameError\u001b[0m                                 Traceback (most recent call last)",
      "Cell \u001b[0;32mIn[2], line 5\u001b[0m\n\u001b[1;32m      2\u001b[0m content \u001b[38;5;241m=\u001b[39m [line\u001b[38;5;241m.\u001b[39mstrip() \u001b[38;5;28;01mfor\u001b[39;00m line \u001b[38;5;129;01min\u001b[39;00m content]\n\u001b[1;32m      4\u001b[0m \u001b[38;5;66;03m# 将列表转换为NumPy数组\u001b[39;00m\n\u001b[0;32m----> 5\u001b[0m content \u001b[38;5;241m=\u001b[39m \u001b[43mnp\u001b[49m\u001b[38;5;241m.\u001b[39marray(content)\n",
      "\u001b[0;31mNameError\u001b[0m: name 'np' is not defined"
     ]
    }
   ],
   "source": [
    "# 去除每行末尾的换行符\n",
    "content = [line.strip() for line in content]\n",
    "\n",
    "# 将列表转换为NumPy数组\n",
    "content = np.array(content)"
   ]
  },
  {
   "cell_type": "code",
   "execution_count": 7,
   "id": "7a1d0940-df0c-4f60-9761-ef9bac3663d0",
   "metadata": {
    "tags": []
   },
   "outputs": [
    {
     "data": {
      "text/plain": [
       "{'input_ids': [1, 22012, 3929, 1567, 313, 29928, 957, 498, 7532, 2155, 2187, 29897], 'attention_mask': [1, 1, 1, 1, 1, 1, 1, 1, 1, 1, 1, 1]}"
      ]
     },
     "execution_count": 7,
     "metadata": {},
     "output_type": "execute_result"
    }
   ],
   "source": [
    "tokenizer(content[3])"
   ]
  },
  {
   "cell_type": "code",
   "execution_count": 4,
   "id": "40dc04a4-2d8d-442d-a7a6-c929166c544b",
   "metadata": {},
   "outputs": [
    {
     "data": {
      "text/plain": [
       "'Puddnhead Wilson : And, Those Extraordinary Twins (The Penguin English Library)'"
      ]
     },
     "execution_count": 4,
     "metadata": {},
     "output_type": "execute_result"
    }
   ],
   "source": [
    "content[4]"
   ]
  },
  {
   "cell_type": "code",
   "execution_count": 21,
   "id": "6f58ba99afb32bc0",
   "metadata": {},
   "outputs": [
    {
     "name": "stderr",
     "output_type": "stream",
     "text": [
      "Processing batches:   0%|          | 0/3062 [00:00<?, ?it/s]We detected that you are passing `past_key_values` as a tuple and this is deprecated and will be removed in v4.43. Please use an appropriate `Cache` class (https://huggingface.co/docs/transformers/v4.41.3/en/internal/generation_utils#transformers.Cache)\n",
      "Processing batches: 100%|██████████| 3062/3062 [10:05<00:00,  5.06it/s]\n"
     ]
    }
   ],
   "source": [
    "edge_weights = []\n",
    "\n",
    "batch_size = 8  # 根据实际情况调整批次大小\n",
    "\n",
    "\n",
    "with torch.no_grad():  # 关闭梯度计算，减少显存使用\n",
    "    for i in tqdm(range(0, len(content), batch_size), desc=\"Processing batches\"):\n",
    "        batch_texts = []\n",
    "        for j in range(i, min(i + batch_size, len(content))):\n",
    "            # 获取节点中的tokens\n",
    "            text = content[j]\n",
    "            \n",
    "            text = f\"This sentence: \\\"{text}\\\" means in a word:\"\n",
    "            \n",
    "            # 使用tokenizer来获取文本长度\n",
    "            tokenized_text = tokenizer(text, return_length=True)\n",
    "            length = len(tokenized_text['input_ids'])\n",
    "            \n",
    "            # 如果长度超过最大输入长度，进行截断\n",
    "            if length > 512:\n",
    "                text = content[j][:496]\n",
    "                text = f\"This sentence: \\\"{text}\\\" means in a word:\"\n",
    "                \n",
    "                # 再次检查长度，确保符合要求\n",
    "                tokenized_text = tokenizer(text, return_length=True)\n",
    "                assert len(tokenized_text['input_ids']) <= 512, \"Text is still too long after truncation.\"\n",
    "            \n",
    "            batch_texts.append(text)\n",
    "\n",
    "        # 批量处理\n",
    "        batch_encoding = tokenizer(batch_texts, padding='longest', max_length=512, truncation=True, return_tensors=\"pt\").to('cuda')\n",
    "\n",
    "        input_ids = batch_encoding['input_ids']\n",
    "        attention_mask = batch_encoding['attention_mask']\n",
    "\n",
    "        # 计算每个句子嵌入的最终隐藏状态\n",
    "        outputs = model(input_ids=input_ids, attention_mask=attention_mask, output_hidden_states=True)\n",
    "        sentence_embeddings = outputs.hidden_states[-1][:, -1, :].cpu()\n",
    "\n",
    "        # 保存结果并释放内存\n",
    "        edge_weights.extend(sentence_embeddings)\n",
    "        del input_ids, attention_mask, outputs\n",
    "        torch.cuda.empty_cache()"
   ]
  },
  {
   "cell_type": "code",
   "execution_count": null,
   "id": "ee1a3b3ea27561f8",
   "metadata": {},
   "outputs": [],
   "source": []
  },
  {
   "cell_type": "code",
   "execution_count": null,
   "id": "f4fa19d4-966e-4a62-bc96-676cc044c21c",
   "metadata": {},
   "outputs": [],
   "source": []
  },
  {
   "cell_type": "code",
   "execution_count": 14,
   "id": "520e1266-b1cf-4615-840a-cc49160b68be",
   "metadata": {},
   "outputs": [
    {
     "name": "stderr",
     "output_type": "stream",
     "text": [
      "Processing batches: 100%|██████████| 24492/24492 [00:31<00:00, 769.20it/s] \n"
     ]
    }
   ],
   "source": [
    "edge_weights = []\n",
    "\n",
    "batch_size = 1  # 根据实际情况调整批次大小\n",
    "\n",
    "max_input_length = 448  # 考虑到特殊token，实际文本长度设为4000\n",
    "\n",
    "with torch.no_grad():  # 关闭梯度计算，减少显存使用\n",
    "    for i in tqdm(range(0, len(content), batch_size), desc=\"Processing batches\"):\n",
    "        batch_texts = []\n",
    "        for j in range(i, min(i + batch_size, len(content))):\n",
    "            # 获取节点中的tokens\n",
    "            text = content[j]\n",
    "            \n",
    "            \n",
    "            # 使用tokenizer来获取文本长度\n",
    "            tokenized_text = tokenizer(text, return_length=True)\n",
    "            length = len(tokenized_text['input_ids'])\n",
    "            batch_texts.append(text)\n",
    "\n",
    "        # 批量处理\n",
    "        batch_encoding = tokenizer(batch_texts, padding='longest', max_length=512, truncation=True, return_tensors=\"pt\").to('cuda')\n",
    "\n",
    "        input_ids = batch_encoding['input_ids'][:,1:10]\n",
    "        attention_mask = batch_encoding['attention_mask']\n",
    "\n",
    "        # 计算每个句子嵌入的最终隐藏状态\n",
    "        # outputs = model(input_ids=input_ids, attention_mask=attention_mask, output_hidden_states=True)\n",
    "        # sentence_embeddings = outputs.hidden_states[-1][:, -1, :].cpu()\n",
    "        embeddings = model.model.embed_tokens(input_ids)\n",
    "        sentence_embeddings=torch.mean(embeddings,dim=1).cpu()\n",
    "\n",
    "        # 保存结果并释放内存\n",
    "        edge_weights.extend(sentence_embeddings)\n",
    "        # del input_ids, attention_mask, outputs\n",
    "        torch.cuda.empty_cache()"
   ]
  },
  {
   "cell_type": "code",
   "execution_count": 15,
   "id": "536520c1-bf2b-4329-9e93-0cebe44b085a",
   "metadata": {},
   "outputs": [
    {
     "data": {
      "text/plain": [
       "['If You Take a Mouse Five-Book Set']"
      ]
     },
     "execution_count": 15,
     "metadata": {},
     "output_type": "execute_result"
    }
   ],
   "source": [
    "tokenizer.batch_decode(input_ids)"
   ]
  },
  {
   "cell_type": "code",
   "execution_count": null,
   "id": "2269ab49-0bc3-4301-90f0-4762d7c4e312",
   "metadata": {},
   "outputs": [],
   "source": []
  },
  {
   "cell_type": "code",
   "execution_count": 16,
   "id": "b17b0bd8-da32-408c-ab7b-54f3538f5c51",
   "metadata": {},
   "outputs": [
    {
     "data": {
      "text/plain": [
       "24492"
      ]
     },
     "execution_count": 16,
     "metadata": {},
     "output_type": "execute_result"
    }
   ],
   "source": [
    "len(edge_weights)"
   ]
  },
  {
   "cell_type": "code",
   "execution_count": 17,
   "id": "db99e24c-a345-46ee-b5fa-b814ccde8556",
   "metadata": {},
   "outputs": [],
   "source": [
    "# 转换为张量\n",
    "edge_weights = torch.stack(edge_weights)\n",
    "edge_weights=edge_weights.float() "
   ]
  },
  {
   "cell_type": "code",
   "execution_count": 18,
   "id": "7f2d5279-fe34-4dfa-92e1-85c4a3b093c5",
   "metadata": {},
   "outputs": [],
   "source": [
    "edge_weights=F.normalize(edge_weights, p=2, dim=1)"
   ]
  },
  {
   "cell_type": "code",
   "execution_count": null,
   "id": "88fde26f-9e48-499c-a97e-c3b3dfd3dbbe",
   "metadata": {},
   "outputs": [],
   "source": []
  },
  {
   "cell_type": "code",
   "execution_count": null,
   "id": "656d050a-d2c8-4c3e-ab15-294cbcb2d031",
   "metadata": {},
   "outputs": [],
   "source": []
  },
  {
   "cell_type": "code",
   "execution_count": 19,
   "id": "299e12a627ea4085",
   "metadata": {},
   "outputs": [],
   "source": [
    "file_path = f'../amazon_ratings/amazon_ratings.npz'\n",
    "data = np.load(file_path)"
   ]
  },
  {
   "cell_type": "code",
   "execution_count": 20,
   "id": "834bd651-2f54-4aaf-a6bd-8bc7fa51d1f7",
   "metadata": {},
   "outputs": [],
   "source": [
    "np.savez_compressed('amazon_ratings_right_10.npz',\n",
    "                    node_features=edge_weights,\n",
    "                    node_labels=data['node_labels'],\n",
    "                    edges=data['edges'],\n",
    "                    train_masks=data['train_masks'],\n",
    "                    val_masks=data['val_masks'],\n",
    "                    test_masks=data['test_masks'])"
   ]
  },
  {
   "cell_type": "code",
   "execution_count": null,
   "id": "6227b716-9a7d-4f92-9125-8313ca97435a",
   "metadata": {},
   "outputs": [],
   "source": []
  }
 ],
 "metadata": {
  "kernelspec": {
   "display_name": "edgetoken",
   "language": "python",
   "name": "edgetoken"
  },
  "language_info": {
   "codemirror_mode": {
    "name": "ipython",
    "version": 3
   },
   "file_extension": ".py",
   "mimetype": "text/x-python",
   "name": "python",
   "nbconvert_exporter": "python",
   "pygments_lexer": "ipython3",
   "version": "3.8.19"
  }
 },
 "nbformat": 4,
 "nbformat_minor": 5
}
