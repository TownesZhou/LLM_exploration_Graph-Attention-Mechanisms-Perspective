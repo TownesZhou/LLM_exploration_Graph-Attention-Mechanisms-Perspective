{
 "cells": [
  {
   "cell_type": "code",
   "execution_count": 1,
   "id": "82c2ef46088ffc3c",
   "metadata": {
    "ExecuteTime": {
     "end_time": "2024-10-18T13:07:49.077146Z",
     "start_time": "2024-10-18T13:07:44.535515Z"
    }
   },
   "outputs": [
    {
     "name": "stderr",
     "output_type": "stream",
     "text": [
      "/root/miniconda3/envs/edgetoken/lib/python3.8/site-packages/tqdm/auto.py:21: TqdmWarning: IProgress not found. Please update jupyter and ipywidgets. See https://ipywidgets.readthedocs.io/en/stable/user_install.html\n",
      "  from .autonotebook import tqdm as notebook_tqdm\n"
     ]
    }
   ],
   "source": [
    "import torch\n",
    "import copy\n",
    "import argparse\n",
    "import numpy as np\n",
    "import json\n",
    "import scipy\n",
    "from torch_geometric.data import Data\n",
    "from torch_sparse import SparseTensor\n",
    "from tqdm import tqdm\n",
    "import os\n",
    "import pickle\n",
    "from torch.nn import CrossEntropyLoss\n",
    "import json\n",
    "from transformers import LlamaForCausalLM, LlamaTokenizer, AdamW, get_linear_schedule_with_warmup\n",
    "from itertools import chain\n",
    "from torch_geometric.utils import to_undirected\n",
    "import torch.nn.functional as F"
   ]
  },
  {
   "cell_type": "code",
   "execution_count": 2,
   "id": "99ed17d98da19265",
   "metadata": {
    "ExecuteTime": {
     "end_time": "2024-10-18T13:07:51.884091Z",
     "start_time": "2024-10-18T13:07:49.087658Z"
    }
   },
   "outputs": [],
   "source": [
    "with open(r'data.json') as f:\n",
    "    data = json.load(f)\n",
    "\n",
    "x = torch.tensor(data['features'], dtype=torch.float)\n",
    "y = torch.tensor(data['labels'], dtype=torch.long)\n",
    "\n",
    "edges = [[(i, j) for j in js] for i, js in enumerate(data['links'])]\n",
    "edges = list(chain(*edges))  # type: ignore\n",
    "edge_index = torch.tensor(edges, dtype=torch.long).t().contiguous()\n",
    "edge_index = to_undirected(edge_index, num_nodes=x.size(0))\n"
   ]
  },
  {
   "cell_type": "code",
   "execution_count": 3,
   "id": "cbcc43b5c31d92e",
   "metadata": {
    "ExecuteTime": {
     "end_time": "2024-10-18T13:07:52.118393Z",
     "start_time": "2024-10-18T13:07:52.023098Z"
    }
   },
   "outputs": [],
   "source": [
    "train_mask = torch.tensor(data['train_masks'], dtype=torch.bool)\n",
    "train_mask = train_mask.t().contiguous()\n",
    "\n",
    "val_mask = torch.tensor(data['val_masks'], dtype=torch.bool)\n",
    "val_mask = val_mask.t().contiguous()\n",
    "\n",
    "test_mask = torch.tensor(data['test_mask'], dtype=torch.bool)\n",
    "\n",
    "stopping_mask = torch.tensor(data['stopping_masks'], dtype=torch.bool)\n",
    "stopping_mask = stopping_mask.t().contiguous()"
   ]
  },
  {
   "cell_type": "code",
   "execution_count": null,
   "id": "31b5a5b4129454f2",
   "metadata": {
    "ExecuteTime": {
     "end_time": "2024-10-18T13:07:59.909566Z",
     "start_time": "2024-10-18T13:07:59.900547Z"
    }
   },
   "outputs": [],
   "source": []
  },
  {
   "cell_type": "code",
   "execution_count": 4,
   "id": "1f59ee0d1ebdca26",
   "metadata": {
    "ExecuteTime": {
     "end_time": "2024-10-18T13:08:33.561468Z",
     "start_time": "2024-10-18T13:08:33.547791Z"
    }
   },
   "outputs": [],
   "source": [
    "adj_t= SparseTensor(row=edge_index[0].to(torch.long), \n",
    "col=edge_index[1].to(torch.long),\n",
    "sparse_sizes=(len(y),len(y)))"
   ]
  },
  {
   "cell_type": "code",
   "execution_count": 5,
   "id": "cc580008b0cf1fe",
   "metadata": {
    "ExecuteTime": {
     "end_time": "2024-10-18T13:13:48.186036Z",
     "start_time": "2024-10-18T13:13:48.174028Z"
    }
   },
   "outputs": [],
   "source": [
    "data= Data(x=x, adj_t=adj_t,y=y,train_mask=train_mask,\n",
    "                    val_mask=val_mask, test_mask=test_mask,\n",
    "                    stopping_mask=stopping_mask)"
   ]
  },
  {
   "cell_type": "code",
   "execution_count": 6,
   "id": "13c66fc0a89a2fc2",
   "metadata": {
    "ExecuteTime": {
     "end_time": "2024-10-18T13:13:48.712592Z",
     "start_time": "2024-10-18T13:13:48.700589Z"
    }
   },
   "outputs": [
    {
     "data": {
      "text/plain": [
       "Data(x=[11701, 300], y=[11701], adj_t=[11701, 11701, nnz=431726], train_mask=[11701, 20], val_mask=[11701, 20], test_mask=[11701], stopping_mask=[11701, 20])"
      ]
     },
     "execution_count": 6,
     "metadata": {},
     "output_type": "execute_result"
    }
   ],
   "source": [
    "data"
   ]
  },
  {
   "cell_type": "code",
   "execution_count": null,
   "id": "12a7073ffc15be42",
   "metadata": {
    "ExecuteTime": {
     "end_time": "2024-10-18T13:14:07.933740Z",
     "start_time": "2024-10-18T13:14:07.887702Z"
    }
   },
   "outputs": [],
   "source": []
  },
  {
   "cell_type": "code",
   "execution_count": null,
   "id": "8dbf9d1925bac05",
   "metadata": {
    "ExecuteTime": {
     "end_time": "2024-10-18T13:09:29.590104Z",
     "start_time": "2024-10-18T13:09:29.585102Z"
    }
   },
   "outputs": [],
   "source": []
  },
  {
   "cell_type": "code",
   "execution_count": null,
   "id": "947b3922d3c4466b",
   "metadata": {
    "ExecuteTime": {
     "end_time": "2024-10-18T13:09:35.957098Z",
     "start_time": "2024-10-18T13:09:35.948029Z"
    }
   },
   "outputs": [],
   "source": []
  },
  {
   "cell_type": "code",
   "execution_count": null,
   "id": "4279bc56045af472",
   "metadata": {
    "ExecuteTime": {
     "end_time": "2024-10-18T12:57:03.023450Z",
     "start_time": "2024-10-18T12:57:03.007446Z"
    }
   },
   "outputs": [],
   "source": []
  },
  {
   "cell_type": "code",
   "execution_count": 7,
   "id": "5b62bf124500219d",
   "metadata": {
    "ExecuteTime": {
     "end_time": "2024-10-18T13:20:26.929204Z",
     "start_time": "2024-10-18T13:20:25.858647Z"
    }
   },
   "outputs": [],
   "source": [
    "metadata = json.load(open(r'metadata.json'))"
   ]
  },
  {
   "cell_type": "code",
   "execution_count": 8,
   "id": "11ff871fbf65d39b",
   "metadata": {
    "ExecuteTime": {
     "end_time": "2024-10-18T13:24:19.992344Z",
     "start_time": "2024-10-18T13:24:19.978905Z"
    }
   },
   "outputs": [],
   "source": [
    "labels = metadata.get('labels', [])\n",
    "nodes = metadata.get('nodes', [])"
   ]
  },
  {
   "cell_type": "code",
   "execution_count": 9,
   "id": "f128ee5d35b73521",
   "metadata": {
    "ExecuteTime": {
     "end_time": "2024-10-18T13:24:22.294838Z",
     "start_time": "2024-10-18T13:24:22.288331Z"
    },
    "tags": []
   },
   "outputs": [
    {
     "data": {
      "text/plain": [
       "{'0': 'Computational linguistics',\n",
       " '1': 'Databases',\n",
       " '2': 'Operating systems',\n",
       " '3': 'Computer architecture',\n",
       " '4': 'Computer security',\n",
       " '5': 'Internet protocols',\n",
       " '6': 'Computer file systems',\n",
       " '7': 'Distributed computing architecture',\n",
       " '8': 'Web technology',\n",
       " '9': 'Programming language topics'}"
      ]
     },
     "execution_count": 9,
     "metadata": {},
     "output_type": "execute_result"
    }
   ],
   "source": [
    "labels"
   ]
  },
  {
   "cell_type": "code",
   "execution_count": 10,
   "id": "5ba1fa1e241c9229",
   "metadata": {
    "ExecuteTime": {
     "end_time": "2024-10-18T13:25:16.061935Z",
     "start_time": "2024-10-18T13:25:16.048728Z"
    }
   },
   "outputs": [
    {
     "data": {
      "text/plain": [
       "dict_keys(['id', 'title', 'label', 'outlinks', 'tokens'])"
      ]
     },
     "execution_count": 10,
     "metadata": {},
     "output_type": "execute_result"
    }
   ],
   "source": [
    "nodes[0].keys()"
   ]
  },
  {
   "cell_type": "code",
   "execution_count": 12,
   "id": "b46a4cb0d4abbcc1",
   "metadata": {
    "ExecuteTime": {
     "end_time": "2024-10-18T13:25:30.608552Z",
     "start_time": "2024-10-18T13:25:30.602131Z"
    },
    "tags": []
   },
   "outputs": [
    {
     "data": {
      "text/plain": [
       "{'id': 32473088,\n",
       " 'title': 'Twilio',\n",
       " 'label': 'Distributed computing architecture',\n",
       " 'outlinks': [23862,\n",
       "  28684,\n",
       "  90451,\n",
       "  93483,\n",
       "  1691376,\n",
       "  1954315,\n",
       "  2420207,\n",
       "  27156851,\n",
       "  46967612],\n",
       " 'tokens': ['twilio',\n",
       "  'twilio',\n",
       "  'cloud',\n",
       "  'communications',\n",
       "  'platform',\n",
       "  'service',\n",
       "  'cpaas',\n",
       "  'company',\n",
       "  'based',\n",
       "  'san',\n",
       "  'francisco',\n",
       "  'california',\n",
       "  'twilio',\n",
       "  'allows',\n",
       "  'software',\n",
       "  'developers',\n",
       "  'programmatically',\n",
       "  'make',\n",
       "  'receive',\n",
       "  'phone',\n",
       "  'calls',\n",
       "  'send',\n",
       "  'receive',\n",
       "  'text',\n",
       "  'messages',\n",
       "  'perform',\n",
       "  'communication',\n",
       "  'functions',\n",
       "  'using',\n",
       "  'web',\n",
       "  'service',\n",
       "  'apis',\n",
       "  'twilio',\n",
       "  'founded',\n",
       "  '2008',\n",
       "  'jeff',\n",
       "  'lawson',\n",
       "  'evan',\n",
       "  'cooke',\n",
       "  'john',\n",
       "  'wolthuis',\n",
       "  'originally',\n",
       "  'based',\n",
       "  'seattle',\n",
       "  'washington',\n",
       "  'san',\n",
       "  'francisco',\n",
       "  'california',\n",
       "  'twilio',\n",
       "  'first',\n",
       "  'major',\n",
       "  'press',\n",
       "  'coverage',\n",
       "  'november',\n",
       "  '2008',\n",
       "  'result',\n",
       "  'application',\n",
       "  'built',\n",
       "  'jeff',\n",
       "  'lawson',\n",
       "  'rickroll',\n",
       "  'people',\n",
       "  'investor',\n",
       "  'dave',\n",
       "  'mcclure',\n",
       "  'used',\n",
       "  'techcrunch',\n",
       "  'founder',\n",
       "  'editor',\n",
       "  'michael',\n",
       "  'arrington',\n",
       "  'prank',\n",
       "  'days',\n",
       "  'later',\n",
       "  'november',\n",
       "  '20',\n",
       "  '2008',\n",
       "  'company',\n",
       "  'launched',\n",
       "  'twilio',\n",
       "  'voice',\n",
       "  'api',\n",
       "  'make',\n",
       "  'receive',\n",
       "  'phone',\n",
       "  'calls',\n",
       "  'completely',\n",
       "  'hosted',\n",
       "  'cloud',\n",
       "  'twilio',\n",
       "  'text',\n",
       "  'messaging',\n",
       "  'api',\n",
       "  'released',\n",
       "  'february',\n",
       "  '2010',\n",
       "  'sms',\n",
       "  'shortcodes',\n",
       "  'released',\n",
       "  'public',\n",
       "  'beta',\n",
       "  'july',\n",
       "  '2011',\n",
       "  'twilio',\n",
       "  'raised',\n",
       "  'approximately',\n",
       "  '103',\n",
       "  'million',\n",
       "  'venture',\n",
       "  'capital',\n",
       "  'growth',\n",
       "  'funding',\n",
       "  'twilio',\n",
       "  'received',\n",
       "  'first',\n",
       "  'round',\n",
       "  'seed',\n",
       "  'funding',\n",
       "  'march',\n",
       "  '2009',\n",
       "  'undisclosed',\n",
       "  'amount',\n",
       "  'rumored',\n",
       "  'around',\n",
       "  '250,000',\n",
       "  'mitch',\n",
       "  'kapor',\n",
       "  'founders',\n",
       "  'fund',\n",
       "  'dave',\n",
       "  'mcclure',\n",
       "  'david',\n",
       "  'g.',\n",
       "  'cohen',\n",
       "  'chris',\n",
       "  'sacca',\n",
       "  'manu',\n",
       "  'kumar',\n",
       "  'k9',\n",
       "  'ventures',\n",
       "  'jeff',\n",
       "  'fluhr',\n",
       "  'twilio',\n",
       "  'first',\n",
       "  'round',\n",
       "  'funding',\n",
       "  'led',\n",
       "  'union',\n",
       "  'square',\n",
       "  'ventures',\n",
       "  '3.7',\n",
       "  'million',\n",
       "  'second',\n",
       "  'b',\n",
       "  'round',\n",
       "  'funding',\n",
       "  '12',\n",
       "  'million',\n",
       "  'led',\n",
       "  'bessemer',\n",
       "  'venture',\n",
       "  'partners',\n",
       "  'twilio',\n",
       "  'received',\n",
       "  '17',\n",
       "  'million',\n",
       "  'series',\n",
       "  'c',\n",
       "  'round',\n",
       "  'december',\n",
       "  '2011',\n",
       "  'bessemer',\n",
       "  'venture',\n",
       "  'partners',\n",
       "  'union',\n",
       "  'square',\n",
       "  'ventures',\n",
       "  'july',\n",
       "  '2013',\n",
       "  'twilio',\n",
       "  'received',\n",
       "  'another',\n",
       "  '70',\n",
       "  'million',\n",
       "  'redpoint',\n",
       "  'ventures',\n",
       "  'draper',\n",
       "  'fisher',\n",
       "  'jurvetson',\n",
       "  'dfj',\n",
       "  'bessemer',\n",
       "  'venture',\n",
       "  'partners',\n",
       "  'july',\n",
       "  '2015',\n",
       "  'twilio',\n",
       "  'raised',\n",
       "  '130',\n",
       "  'million',\n",
       "  'series',\n",
       "  'e',\n",
       "  'fidelity',\n",
       "  'rowe',\n",
       "  'price',\n",
       "  'altimeter',\n",
       "  'capital',\n",
       "  'management',\n",
       "  'arrowpoint',\n",
       "  'partners',\n",
       "  'addition',\n",
       "  'amazon',\n",
       "  'salesforce',\n",
       "  'twilio',\n",
       "  'known',\n",
       "  'use',\n",
       "  'platform',\n",
       "  'evangelism',\n",
       "  'acquire',\n",
       "  'customers',\n",
       "  'early',\n",
       "  'example',\n",
       "  'groupme',\n",
       "  'founded',\n",
       "  'may',\n",
       "  '2010',\n",
       "  'techcrunch',\n",
       "  'disrupt',\n",
       "  'hackathon',\n",
       "  'uses',\n",
       "  'twilio',\n",
       "  'text',\n",
       "  'messaging',\n",
       "  'product',\n",
       "  'facilitate',\n",
       "  'group',\n",
       "  'chat',\n",
       "  'raised',\n",
       "  '10.6',\n",
       "  'million',\n",
       "  'venture',\n",
       "  'funding',\n",
       "  'january',\n",
       "  '2011',\n",
       "  'following',\n",
       "  'success',\n",
       "  'techcrunch',\n",
       "  'disrupt',\n",
       "  'hackathon',\n",
       "  'seed',\n",
       "  'accelerator',\n",
       "  '500',\n",
       "  'startups',\n",
       "  'announced',\n",
       "  'twilio',\n",
       "  'fund',\n",
       "  '250,000',\n",
       "  'micro-fund',\n",
       "  'provide',\n",
       "  'seed',\n",
       "  'money',\n",
       "  'startups',\n",
       "  'using',\n",
       "  'twilio',\n",
       "  'september',\n",
       "  '2010',\n",
       "  'february',\n",
       "  '2014',\n",
       "  'twilio',\n",
       "  'acquired',\n",
       "  'authy',\n",
       "  'combinator-backed',\n",
       "  'startup',\n",
       "  'offers',\n",
       "  'two-factor',\n",
       "  'authentication',\n",
       "  'services',\n",
       "  'end',\n",
       "  'users',\n",
       "  'developers',\n",
       "  'enterprises',\n",
       "  'september',\n",
       "  '2016',\n",
       "  'twilio',\n",
       "  'acquired',\n",
       "  'tikal',\n",
       "  'technologies',\n",
       "  'development',\n",
       "  'team',\n",
       "  'behind',\n",
       "  'kurento',\n",
       "  'webrtc',\n",
       "  'open',\n",
       "  'source',\n",
       "  'project',\n",
       "  '8.5',\n",
       "  'million',\n",
       "  'february',\n",
       "  '2017',\n",
       "  'twilio',\n",
       "  'acquired',\n",
       "  'beepsend',\n",
       "  'swedish-based',\n",
       "  'sms',\n",
       "  'messaging',\n",
       "  'provider',\n",
       "  'undisclosed',\n",
       "  'amount',\n",
       "  'september',\n",
       "  '2018',\n",
       "  'twilio',\n",
       "  'announced',\n",
       "  'acquiring',\n",
       "  'ytica',\n",
       "  'prague',\n",
       "  'czech',\n",
       "  'republic-based',\n",
       "  'speech',\n",
       "  'analytics',\n",
       "  'firm',\n",
       "  'undisclosed',\n",
       "  'amount',\n",
       "  'october',\n",
       "  '2018',\n",
       "  'twilio',\n",
       "  'announced',\n",
       "  'acquiring',\n",
       "  'sendgrid',\n",
       "  'denver',\n",
       "  'colorado-based',\n",
       "  'customer',\n",
       "  'communication',\n",
       "  'platform',\n",
       "  'transactional',\n",
       "  'marketing',\n",
       "  'email',\n",
       "  '2',\n",
       "  'billion',\n",
       "  'twilio',\n",
       "  'uses',\n",
       "  'amazon',\n",
       "  'web',\n",
       "  'services',\n",
       "  'host',\n",
       "  'telephony',\n",
       "  'infrastructure',\n",
       "  'provide',\n",
       "  'connectivity',\n",
       "  'http',\n",
       "  'public',\n",
       "  'switched',\n",
       "  'telephone',\n",
       "  'network',\n",
       "  'pstn',\n",
       "  'apis',\n",
       "  'twilio',\n",
       "  'follows',\n",
       "  'set',\n",
       "  'architectural',\n",
       "  'design',\n",
       "  'principles',\n",
       "  'protect',\n",
       "  'unexpected',\n",
       "  'outages',\n",
       "  'received',\n",
       "  'praise',\n",
       "  'staying',\n",
       "  'online',\n",
       "  'widespread',\n",
       "  'amazon',\n",
       "  'web',\n",
       "  'services',\n",
       "  'outage',\n",
       "  'april',\n",
       "  '2011',\n",
       "  'twilio',\n",
       "  'supports',\n",
       "  'development',\n",
       "  'open-source',\n",
       "  'software',\n",
       "  'regularly',\n",
       "  'makes',\n",
       "  'contributions',\n",
       "  'open-source',\n",
       "  'community',\n",
       "  'june',\n",
       "  '2010',\n",
       "  'twilio',\n",
       "  'launched',\n",
       "  'openvbx',\n",
       "  'open-source',\n",
       "  'product',\n",
       "  'lets',\n",
       "  'business',\n",
       "  'users',\n",
       "  'configure',\n",
       "  'phone',\n",
       "  'numbers',\n",
       "  'receive',\n",
       "  'route',\n",
       "  'phone',\n",
       "  'calls',\n",
       "  'one',\n",
       "  'month',\n",
       "  'later',\n",
       "  'twilio',\n",
       "  'engineer',\n",
       "  'kyle',\n",
       "  'conroy',\n",
       "  'released',\n",
       "  'stashboard',\n",
       "  'open-source',\n",
       "  'status',\n",
       "  'dashboard',\n",
       "  'written',\n",
       "  'python',\n",
       "  'programming',\n",
       "  'language',\n",
       "  'api',\n",
       "  'software',\n",
       "  'service',\n",
       "  'use',\n",
       "  'display',\n",
       "  'whether',\n",
       "  'service',\n",
       "  'functioning',\n",
       "  'properly',\n",
       "  'twilio',\n",
       "  'also',\n",
       "  'sponsors',\n",
       "  'localtunnel',\n",
       "  'created',\n",
       "  'ex-twilio',\n",
       "  'engineer',\n",
       "  'jeff',\n",
       "  'lindsay',\n",
       "  'enables',\n",
       "  'software',\n",
       "  'developers',\n",
       "  'expose',\n",
       "  'local',\n",
       "  'development',\n",
       "  'environment',\n",
       "  'public',\n",
       "  'internet',\n",
       "  'behind',\n",
       "  'nat',\n",
       "  'twilio',\n",
       "  'lists',\n",
       "  'number',\n",
       "  'open-source',\n",
       "  'projects',\n",
       "  'website',\n",
       "  'including']}"
      ]
     },
     "execution_count": 12,
     "metadata": {},
     "output_type": "execute_result"
    }
   ],
   "source": [
    "nodes[0]"
   ]
  },
  {
   "cell_type": "code",
   "execution_count": null,
   "id": "1be214fa-f355-41a3-ad31-3c2052322676",
   "metadata": {},
   "outputs": [],
   "source": []
  },
  {
   "cell_type": "code",
   "execution_count": null,
   "id": "5939f3a4-f565-44cd-b115-4b47f1a14a60",
   "metadata": {},
   "outputs": [],
   "source": []
  },
  {
   "cell_type": "code",
   "execution_count": null,
   "id": "55c8f61d149670c5",
   "metadata": {
    "ExecuteTime": {
     "end_time": "2024-10-18T13:27:33.944224Z",
     "start_time": "2024-10-18T13:27:33.932607Z"
    }
   },
   "outputs": [],
   "source": []
  },
  {
   "cell_type": "code",
   "execution_count": 25,
   "id": "8db02d78ad5e6adc",
   "metadata": {
    "ExecuteTime": {
     "end_time": "2024-10-18T13:28:38.288840Z",
     "start_time": "2024-10-18T13:28:38.251002Z"
    }
   },
   "outputs": [
    {
     "name": "stdout",
     "output_type": "stream",
     "text": [
      "Longest length: 15230\n",
      "Shortest length: 1\n",
      "Average length: 414.20\n"
     ]
    }
   ],
   "source": [
    "max_length = 0\n",
    "min_length = float('inf')\n",
    "total_length = 0\n",
    "count = 0\n",
    "\n",
    "for node in nodes:\n",
    "    if 'tokens' in node:\n",
    "        token_length = len(node['tokens'])\n",
    "        max_length = max(max_length, token_length)\n",
    "        min_length = min(min_length, token_length)\n",
    "        total_length += token_length\n",
    "        count += 1\n",
    "\n",
    "average_length = total_length / count if count > 0 else 0\n",
    "\n",
    "print(f\"Longest length: {max_length}\")\n",
    "print(f\"Shortest length: {min_length}\")\n",
    "print(f\"Average length: {average_length:.2f}\")"
   ]
  },
  {
   "cell_type": "code",
   "execution_count": null,
   "id": "42ed26cfa5d44852",
   "metadata": {
    "ExecuteTime": {
     "end_time": "2024-10-18T13:29:43.829707Z",
     "start_time": "2024-10-18T13:29:43.816108Z"
    }
   },
   "outputs": [],
   "source": []
  },
  {
   "cell_type": "code",
   "execution_count": 26,
   "id": "f0745591-6833-4e46-b9ea-c419168b6810",
   "metadata": {
    "collapsed": true,
    "jupyter": {
     "outputs_hidden": true
    },
    "tags": []
   },
   "outputs": [
    {
     "name": "stderr",
     "output_type": "stream",
     "text": [
      "The `load_in_4bit` and `load_in_8bit` arguments are deprecated and will be removed in the future versions. Please, pass a `BitsAndBytesConfig` object in `quantization_config` argument instead.\n",
      "/root/miniconda3/envs/edgetoken/lib/python3.8/site-packages/bitsandbytes/cuda_setup/main.py:149: UserWarning: WARNING: The following directories listed in your path were found to be non-existent: {PosixPath('/usr/local/nvidia/lib'), PosixPath('/usr/local/nvidia/lib64')}\n",
      "  warn(msg)\n",
      "/root/miniconda3/envs/edgetoken/lib/python3.8/site-packages/bitsandbytes/cuda_setup/main.py:149: UserWarning: /usr/local/nvidia/lib:/usr/local/nvidia/lib64 did not contain ['libcudart.so', 'libcudart.so.11.0', 'libcudart.so.12.0'] as expected! Searching further paths...\n",
      "  warn(msg)\n",
      "/root/miniconda3/envs/edgetoken/lib/python3.8/site-packages/bitsandbytes/cuda_setup/main.py:149: UserWarning: WARNING: The following directories listed in your path were found to be non-existent: {PosixPath('Asia/Shanghai')}\n",
      "  warn(msg)\n",
      "/root/miniconda3/envs/edgetoken/lib/python3.8/site-packages/bitsandbytes/cuda_setup/main.py:149: UserWarning: WARNING: The following directories listed in your path were found to be non-existent: {PosixPath('6443'), PosixPath('//u200987-98ae-aa95c268.neimeng.seetacloud.com'), PosixPath('https')}\n",
      "  warn(msg)\n",
      "/root/miniconda3/envs/edgetoken/lib/python3.8/site-packages/bitsandbytes/cuda_setup/main.py:149: UserWarning: WARNING: The following directories listed in your path were found to be non-existent: {PosixPath('autodl-tmp/wikics/772ecbd6-aef0-4604-ac41-13dd182e7fdc')}\n",
      "  warn(msg)\n",
      "/root/miniconda3/envs/edgetoken/lib/python3.8/site-packages/bitsandbytes/cuda_setup/main.py:149: UserWarning: WARNING: The following directories listed in your path were found to be non-existent: {PosixPath('//matplotlib_inline.backend_inline'), PosixPath('module')}\n",
      "  warn(msg)\n",
      "/root/miniconda3/envs/edgetoken/lib/python3.8/site-packages/bitsandbytes/cuda_setup/main.py:149: UserWarning: Found duplicate ['libcudart.so', 'libcudart.so.11.0', 'libcudart.so.12.0'] files: {PosixPath('/usr/local/cuda/lib64/libcudart.so'), PosixPath('/usr/local/cuda/lib64/libcudart.so.11.0')}.. We'll flip a coin and try one of these, in order to fail forward.\n",
      "Either way, this might cause trouble in the future:\n",
      "If you get `CUDA error: invalid device function` errors, the above might be the cause and the solution is to make sure only one ['libcudart.so', 'libcudart.so.11.0', 'libcudart.so.12.0'] in the paths that we search based on your env.\n",
      "  warn(msg)\n"
     ]
    },
    {
     "name": "stdout",
     "output_type": "stream",
     "text": [
      "\n",
      "===================================BUG REPORT===================================\n",
      "Welcome to bitsandbytes. For bug reports, please run\n",
      "\n",
      "python -m bitsandbytes\n",
      "\n",
      " and submit this information together with your error trace to: https://github.com/TimDettmers/bitsandbytes/issues\n",
      "================================================================================\n",
      "bin /root/miniconda3/envs/edgetoken/lib/python3.8/site-packages/bitsandbytes/libbitsandbytes_cuda118.so\n",
      "CUDA_SETUP: WARNING! libcudart.so not found in any environmental path. Searching in backup paths...\n",
      "CUDA SETUP: CUDA runtime path found: /usr/local/cuda/lib64/libcudart.so\n",
      "CUDA SETUP: Highest compute capability among GPUs detected: 8.6\n",
      "CUDA SETUP: Detected CUDA version 118\n",
      "CUDA SETUP: Loading binary /root/miniconda3/envs/edgetoken/lib/python3.8/site-packages/bitsandbytes/libbitsandbytes_cuda118.so...\n"
     ]
    },
    {
     "name": "stderr",
     "output_type": "stream",
     "text": [
      "Loading checkpoint shards:   0%|          | 0/2 [00:00<?, ?it/s]/root/miniconda3/envs/edgetoken/lib/python3.8/site-packages/torch/_utils.py:776: UserWarning: TypedStorage is deprecated. It will be removed in the future and UntypedStorage will be the only storage class. This should only matter to you if you are using storages directly.  To access UntypedStorage directly, use tensor.untyped_storage() instead of tensor.storage()\n",
      "  return self.fget.__get__(instance, owner)()\n",
      "Loading checkpoint shards: 100%|██████████| 2/2 [00:13<00:00,  6.63s/it]\n"
     ]
    }
   ],
   "source": [
    "model = LlamaForCausalLM.from_pretrained(\n",
    "                                    '../llama2-7b-hf',\n",
    "                                    load_in_8bit=True,\n",
    "                                    torch_dtype=torch.float16,\n",
    "                                    use_safetensors=False,\n",
    "                                    device_map='cuda:0'\n",
    "                                )"
   ]
  },
  {
   "cell_type": "code",
   "execution_count": 27,
   "id": "60461decab787ce",
   "metadata": {},
   "outputs": [],
   "source": [
    "tokenizer = LlamaTokenizer.from_pretrained('../llama2-7b-hf', max_length=4096)\n",
    "tokenizer.padding_side = \"left\"\n",
    "tokenizer.pad_token = tokenizer.unk_token"
   ]
  },
  {
   "cell_type": "code",
   "execution_count": null,
   "id": "d9646185-f2e0-48b4-a439-3b1024a22340",
   "metadata": {},
   "outputs": [],
   "source": []
  },
  {
   "cell_type": "code",
   "execution_count": 28,
   "id": "16013546-8fcb-4598-aa0b-3c17b5fbd209",
   "metadata": {},
   "outputs": [
    {
     "data": {
      "text/plain": [
       "11701"
      ]
     },
     "execution_count": 28,
     "metadata": {},
     "output_type": "execute_result"
    }
   ],
   "source": [
    "len(nodes)"
   ]
  },
  {
   "cell_type": "code",
   "execution_count": null,
   "id": "1e5de09d-9787-4e9e-b04c-f3db62ea4014",
   "metadata": {
    "tags": []
   },
   "outputs": [],
   "source": []
  },
  {
   "cell_type": "code",
   "execution_count": null,
   "id": "bab9fe08-58d7-4ac5-bc15-2865d30c167c",
   "metadata": {},
   "outputs": [],
   "source": []
  },
  {
   "cell_type": "code",
   "execution_count": null,
   "id": "ebab590c-a531-45ca-a08a-d12f3f1efd06",
   "metadata": {},
   "outputs": [
    {
     "name": "stderr",
     "output_type": "stream",
     "text": [
      "Processing batches: 100%|██████████| 11701/11701 [00:12<00:00, 955.50it/s] \n"
     ]
    }
   ],
   "source": [
    "edge_weights = []\n",
    "\n",
    "batch_size = 1  # 根据实际情况调整批次大小\n",
    "\n",
    "max_input_length = 448  # 考虑到特殊token，实际文本长度设为4000\n",
    "\n",
    "with torch.no_grad():  # 关闭梯度计算，减少显存使用\n",
    "    for i in tqdm(range(0, len(nodes), batch_size), desc=\"Processing batches\"):\n",
    "        batch_texts = []\n",
    "        for j in range(i, min(i + batch_size, len(nodes))):\n",
    "            # 获取节点中的tokens\n",
    "            tokens = nodes[j]['tokens']\n",
    "            \n",
    "            # 拼接tokens为字符串，并且添加描述性的前缀\n",
    "            text = ' '.join(tokens[:10])\n",
    "            \n",
    "            # 使用tokenizer来获取文本长度\n",
    "            tokenized_text = tokenizer(text, return_length=True)\n",
    "            length = len(tokenized_text['input_ids'])\n",
    "            batch_texts.append(text)\n",
    "\n",
    "        # 批量处理\n",
    "        batch_encoding = tokenizer(batch_texts, padding='longest', max_length=512, truncation=True, return_tensors=\"pt\").to('cuda')\n",
    "\n",
    "        input_ids = batch_encoding['input_ids']\n",
    "        attention_mask = batch_encoding['attention_mask']\n",
    "\n",
    "        # 计算每个句子嵌入的最终隐藏状态\n",
    "        # outputs = model(input_ids=input_ids, attention_mask=attention_mask, output_hidden_states=True)\n",
    "        # sentence_embeddings = outputs.hidden_states[-1][:, -1, :].cpu()\n",
    "        embeddings = model.model.embed_tokens(input_ids)\n",
    "        sentence_embeddings=torch.mean(embeddings,dim=1).cpu()\n",
    "\n",
    "        # 保存结果并释放内存\n",
    "        edge_weights.extend(sentence_embeddings)\n",
    "        # del input_ids, attention_mask, outputs\n",
    "        torch.cuda.empty_cache()"
   ]
  },
  {
   "cell_type": "code",
   "execution_count": null,
   "id": "b0438305-9ab0-4fe1-9635-f4af6e20f9ea",
   "metadata": {},
   "outputs": [],
   "source": []
  },
  {
   "cell_type": "code",
   "execution_count": 32,
   "id": "4c412f097a0708e9",
   "metadata": {},
   "outputs": [],
   "source": [
    "# 转换为张量\n",
    "edge_weights = torch.stack(edge_weights)\n",
    "edge_weights=edge_weights.float()"
   ]
  },
  {
   "cell_type": "code",
   "execution_count": null,
   "id": "5d557398a39be757",
   "metadata": {},
   "outputs": [],
   "source": []
  },
  {
   "cell_type": "code",
   "execution_count": null,
   "id": "270fce22-c1f3-4dcd-b0ff-d9040c1f7312",
   "metadata": {},
   "outputs": [],
   "source": []
  },
  {
   "cell_type": "code",
   "execution_count": 33,
   "id": "86f77a34-2d04-4c42-aa8b-6826356778b0",
   "metadata": {},
   "outputs": [],
   "source": [
    "data.x=edge_weights"
   ]
  },
  {
   "cell_type": "code",
   "execution_count": 36,
   "id": "2c014e64-63eb-4671-9838-00ed24930665",
   "metadata": {},
   "outputs": [
    {
     "data": {
      "text/plain": [
       "Data(x=[11701, 4096], y=[11701], adj_t=[11701, 11701, nnz=431726], train_mask=[11701, 20], val_mask=[11701, 20], test_mask=[11701], stopping_mask=[11701, 20])"
      ]
     },
     "execution_count": 36,
     "metadata": {},
     "output_type": "execute_result"
    }
   ],
   "source": [
    "data"
   ]
  },
  {
   "cell_type": "code",
   "execution_count": 35,
   "id": "edebb30b8b436a29",
   "metadata": {},
   "outputs": [],
   "source": [
    "torch.save(data, 'data_token_right_10.pt')"
   ]
  },
  {
   "cell_type": "code",
   "execution_count": null,
   "id": "4e7e2fe4-442c-4591-bd2d-05f0c0b1c5fc",
   "metadata": {},
   "outputs": [],
   "source": []
  }
 ],
 "metadata": {
  "kernelspec": {
   "display_name": "edgetoken",
   "language": "python",
   "name": "edgetoken"
  },
  "language_info": {
   "codemirror_mode": {
    "name": "ipython",
    "version": 3
   },
   "file_extension": ".py",
   "mimetype": "text/x-python",
   "name": "python",
   "nbconvert_exporter": "python",
   "pygments_lexer": "ipython3",
   "version": "3.8.19"
  }
 },
 "nbformat": 4,
 "nbformat_minor": 5
}
